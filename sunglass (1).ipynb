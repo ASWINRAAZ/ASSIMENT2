{
 "cells": [
  {
   "cell_type": "code",
   "execution_count": 13,
   "id": "e90cc83b",
   "metadata": {},
   "outputs": [
    {
     "name": "stdout",
     "output_type": "stream",
     "text": [
      "Requirement already satisfied: selenium in c:\\users\\raushan kumar\\downloads\\ana\\lib\\site-packages (4.1.0)\n",
      "Requirement already satisfied: trio-websocket~=0.9 in c:\\users\\raushan kumar\\downloads\\ana\\lib\\site-packages (from selenium) (0.9.2)\n",
      "Requirement already satisfied: trio~=0.17 in c:\\users\\raushan kumar\\downloads\\ana\\lib\\site-packages (from selenium) (0.19.0)\n",
      "Requirement already satisfied: urllib3[secure]~=1.26 in c:\\users\\raushan kumar\\downloads\\ana\\lib\\site-packages (from selenium) (1.26.7)\n",
      "Requirement already satisfied: attrs>=19.2.0 in c:\\users\\raushan kumar\\downloads\\ana\\lib\\site-packages (from trio~=0.17->selenium) (21.2.0)\n",
      "Requirement already satisfied: idna in c:\\users\\raushan kumar\\downloads\\ana\\lib\\site-packages (from trio~=0.17->selenium) (3.2)\n",
      "Requirement already satisfied: async-generator>=1.9 in c:\\users\\raushan kumar\\downloads\\ana\\lib\\site-packages (from trio~=0.17->selenium) (1.10)\n",
      "Requirement already satisfied: cffi>=1.14 in c:\\users\\raushan kumar\\downloads\\ana\\lib\\site-packages (from trio~=0.17->selenium) (1.14.6)\n",
      "Requirement already satisfied: sortedcontainers in c:\\users\\raushan kumar\\downloads\\ana\\lib\\site-packages (from trio~=0.17->selenium) (2.4.0)\n",
      "Requirement already satisfied: outcome in c:\\users\\raushan kumar\\downloads\\ana\\lib\\site-packages (from trio~=0.17->selenium) (1.1.0)\n",
      "Requirement already satisfied: sniffio in c:\\users\\raushan kumar\\downloads\\ana\\lib\\site-packages (from trio~=0.17->selenium) (1.2.0)\n",
      "Requirement already satisfied: pycparser in c:\\users\\raushan kumar\\downloads\\ana\\lib\\site-packages (from cffi>=1.14->trio~=0.17->selenium) (2.20)\n",
      "Requirement already satisfied: wsproto>=0.14 in c:\\users\\raushan kumar\\downloads\\ana\\lib\\site-packages (from trio-websocket~=0.9->selenium) (1.0.0)\n",
      "Requirement already satisfied: pyOpenSSL>=0.14 in c:\\users\\raushan kumar\\downloads\\ana\\lib\\site-packages (from urllib3[secure]~=1.26->selenium) (21.0.0)\n",
      "Requirement already satisfied: cryptography>=1.3.4 in c:\\users\\raushan kumar\\downloads\\ana\\lib\\site-packages (from urllib3[secure]~=1.26->selenium) (3.4.8)\n",
      "Requirement already satisfied: certifi in c:\\users\\raushan kumar\\downloads\\ana\\lib\\site-packages (from urllib3[secure]~=1.26->selenium) (2021.10.8)\n",
      "Requirement already satisfied: six>=1.5.2 in c:\\users\\raushan kumar\\downloads\\ana\\lib\\site-packages (from pyOpenSSL>=0.14->urllib3[secure]~=1.26->selenium) (1.16.0)\n",
      "Requirement already satisfied: h11<1,>=0.9.0 in c:\\users\\raushan kumar\\downloads\\ana\\lib\\site-packages (from wsproto>=0.14->trio-websocket~=0.9->selenium) (0.13.0)\n"
     ]
    }
   ],
   "source": [
    "!pip install selenium"
   ]
  },
  {
   "cell_type": "code",
   "execution_count": 14,
   "id": "d44839ee",
   "metadata": {},
   "outputs": [],
   "source": [
    "import selenium\n",
    "from selenium import webdriver\n",
    "import pandas as pd\n",
    "import warnings\n",
    "warnings.filterwarnings(\"ignore\")"
   ]
  },
  {
   "cell_type": "code",
   "execution_count": 15,
   "id": "ad6025c5",
   "metadata": {},
   "outputs": [],
   "source": [
    "driver = webdriver.Chrome(r'C:\\Users\\Raushan kumar\\Downloads\\as\\chromedriver.exe')"
   ]
  },
  {
   "cell_type": "code",
   "execution_count": 16,
   "id": "83bef985",
   "metadata": {},
   "outputs": [],
   "source": [
    "driver = webdriver.Chrome('chromedriver.exe')"
   ]
  },
  {
   "cell_type": "code",
   "execution_count": 17,
   "id": "49a62bfb",
   "metadata": {},
   "outputs": [],
   "source": [
    "url = 'https://www.flipkart.com/'\n",
    "driver.get(url)"
   ]
  },
  {
   "cell_type": "code",
   "execution_count": 18,
   "id": "c9d9347b",
   "metadata": {},
   "outputs": [
    {
     "data": {
      "text/plain": [
       "<selenium.webdriver.remote.webelement.WebElement (session=\"12d7bc1485fb12fe062872270605a56b\", element=\"d2a2fe27-511d-4d65-a0b8-f4daaeed6bf6\")>"
      ]
     },
     "execution_count": 18,
     "metadata": {},
     "output_type": "execute_result"
    }
   ],
   "source": [
    "search_sunglass = driver.find_element_by_class_name(\"_3704LK\")\n",
    "search_sunglass"
   ]
  },
  {
   "cell_type": "code",
   "execution_count": 19,
   "id": "8be529c3",
   "metadata": {},
   "outputs": [],
   "source": [
    "search_sunglass.send_keys(\"sunglass\")"
   ]
  },
  {
   "cell_type": "code",
   "execution_count": 24,
   "id": "2ce807fc",
   "metadata": {},
   "outputs": [
    {
     "data": {
      "text/plain": [
       "<selenium.webdriver.remote.webelement.WebElement (session=\"12d7bc1485fb12fe062872270605a56b\", element=\"8cfa790d-2d53-4b1a-a063-a93b25f6c558\")>"
      ]
     },
     "execution_count": 24,
     "metadata": {},
     "output_type": "execute_result"
    }
   ],
   "source": [
    "search_btn = driver.find_element_by_class_name(\"L0Z3Pu\")\n",
    "search_btn"
   ]
  },
  {
   "cell_type": "code",
   "execution_count": 25,
   "id": "a048843e",
   "metadata": {},
   "outputs": [],
   "source": [
    "search_btn.click()"
   ]
  },
  {
   "cell_type": "code",
   "execution_count": 26,
   "id": "36d07d30",
   "metadata": {},
   "outputs": [
    {
     "data": {
      "text/plain": [
       "40"
      ]
     },
     "execution_count": 26,
     "metadata": {},
     "output_type": "execute_result"
    }
   ],
   "source": [
    "brand_tags = driver.find_elements_by_xpath('//div[@class=\"_2WkVRV\"]')\n",
    "len(brand_tags)"
   ]
  },
  {
   "cell_type": "code",
   "execution_count": 27,
   "id": "797a51fe",
   "metadata": {},
   "outputs": [],
   "source": [
    "brand_titles = []\n",
    "for i in brand_tags:\n",
    "    brand_titles.append(i.text)\n",
    "    len(brand_titles)"
   ]
  },
  {
   "cell_type": "code",
   "execution_count": 28,
   "id": "d04f7b81",
   "metadata": {},
   "outputs": [
    {
     "data": {
      "text/plain": [
       "['Singco India',\n",
       " 'ROZZETTA CRAFT',\n",
       " 'Elligator',\n",
       " 'SRPM',\n",
       " 'Fastrack',\n",
       " 'SUNBEE',\n",
       " 'PIRASO',\n",
       " 'ROZZETTA CRAFT',\n",
       " 'New Specs',\n",
       " 'SHAAH COLLECTIONS',\n",
       " 'SHAAH COLLECTIONS',\n",
       " 'ROZZETTA CRAFT',\n",
       " 'SUNBEE',\n",
       " 'kingsunglasses',\n",
       " 'Fastrack',\n",
       " 'ROZZETTA CRAFT',\n",
       " 'ROZZETTA CRAFT',\n",
       " 'Johaena',\n",
       " 'ROZZETTA CRAFT',\n",
       " 'VINCENT CHASE',\n",
       " 'PHENOMENAL',\n",
       " 'Elligator',\n",
       " 'Lee Topper',\n",
       " 'ROYAL SON',\n",
       " 'Elligator',\n",
       " 'PHENOMENAL',\n",
       " 'kingsunglasses',\n",
       " 'VINCENT CHASE',\n",
       " 'SUNBEE',\n",
       " 'Fastrack',\n",
       " 'PHENOMENAL',\n",
       " 'ROYAL SON',\n",
       " 'GANSTA',\n",
       " 'Elligator',\n",
       " 'maxa',\n",
       " 'VINCENT CHASE',\n",
       " 'PIRASO',\n",
       " 'Rich Club',\n",
       " 'Lee Topper',\n",
       " 'ROYAL SON']"
      ]
     },
     "execution_count": 28,
     "metadata": {},
     "output_type": "execute_result"
    }
   ],
   "source": [
    "brand_titles"
   ]
  },
  {
   "cell_type": "code",
   "execution_count": 29,
   "id": "9322297c",
   "metadata": {},
   "outputs": [
    {
     "data": {
      "text/plain": [
       "40"
      ]
     },
     "execution_count": 29,
     "metadata": {},
     "output_type": "execute_result"
    }
   ],
   "source": [
    "price_tags = driver.find_elements_by_xpath('//div[@class=\"_30jeq3\"]')\n",
    "len(price_tags)"
   ]
  },
  {
   "cell_type": "code",
   "execution_count": 30,
   "id": "a952e6b4",
   "metadata": {},
   "outputs": [],
   "source": [
    "price_titles = []\n",
    "for i in price_tags:\n",
    "    price_titles.append(i.text)\n",
    "    len(price_titles)"
   ]
  },
  {
   "cell_type": "code",
   "execution_count": 31,
   "id": "fcc41672",
   "metadata": {},
   "outputs": [
    {
     "data": {
      "text/plain": [
       "['₹664',\n",
       " '₹499',\n",
       " '₹248',\n",
       " '₹188',\n",
       " '₹489',\n",
       " '₹271',\n",
       " '₹229',\n",
       " '₹449',\n",
       " '₹234',\n",
       " '₹165',\n",
       " '₹181',\n",
       " '₹349',\n",
       " '₹243',\n",
       " '₹186',\n",
       " '₹639',\n",
       " '₹649',\n",
       " '₹499',\n",
       " '₹146',\n",
       " '₹399',\n",
       " '₹1,533',\n",
       " '₹309',\n",
       " '₹265',\n",
       " '₹199',\n",
       " '₹359',\n",
       " '₹189',\n",
       " '₹299',\n",
       " '₹174',\n",
       " '₹1,533',\n",
       " '₹235',\n",
       " '₹626',\n",
       " '₹269',\n",
       " '₹664',\n",
       " '₹269',\n",
       " '₹230',\n",
       " '₹144',\n",
       " '₹1,415',\n",
       " '₹250',\n",
       " '₹165',\n",
       " '₹276',\n",
       " '₹699']"
      ]
     },
     "execution_count": 31,
     "metadata": {},
     "output_type": "execute_result"
    }
   ],
   "source": [
    "price_titles"
   ]
  },
  {
   "cell_type": "code",
   "execution_count": 32,
   "id": "212d015a",
   "metadata": {},
   "outputs": [
    {
     "data": {
      "text/plain": [
       "40"
      ]
     },
     "execution_count": 32,
     "metadata": {},
     "output_type": "execute_result"
    }
   ],
   "source": [
    "description_tags = driver.find_elements_by_xpath('//a[@class=\"IRpwTa\"]')\n",
    "len(description_tags)"
   ]
  },
  {
   "cell_type": "code",
   "execution_count": 33,
   "id": "676a9bfd",
   "metadata": {},
   "outputs": [],
   "source": [
    "description_titles = []\n",
    "for i in description_tags:\n",
    "    description_titles.append(i.text)\n",
    "    len(description_titles)"
   ]
  },
  {
   "cell_type": "code",
   "execution_count": 34,
   "id": "b3fe1b71",
   "metadata": {},
   "outputs": [
    {
     "data": {
      "text/plain": [
       "['Gradient, Toughened Glass Lens, UV Protection Retro Squ...',\n",
       " 'UV Protection, Gradient Retro Square Sunglasses (62)',\n",
       " 'UV Protection Round Sunglasses (54)',\n",
       " 'UV Protection Wayfarer Sunglasses (50)',\n",
       " 'Gradient, UV Protection Wayfarer Sunglasses (Free Size)',\n",
       " 'UV Protection, Polarized, Mirrored Round Sunglasses (Fr...',\n",
       " 'UV Protection Aviator Sunglasses (54)',\n",
       " 'UV Protection, Riding Glasses Rectangular Sunglasses (F...',\n",
       " 'UV Protection Rectangular Sunglasses (Free Size)',\n",
       " 'UV Protection, Polarized, Mirrored Rectangular Sunglass...',\n",
       " 'UV Protection, Polarized, Mirrored Rectangular Sunglass...',\n",
       " 'UV Protection, Gradient Retro Square Sunglasses (Free S...',\n",
       " 'UV Protection, Polarized Wayfarer Sunglasses (Free Size...',\n",
       " 'UV Protection Round Sunglasses (54)',\n",
       " 'UV Protection Rectangular Sunglasses (Free Size)',\n",
       " 'UV Protection Aviator Sunglasses (62)',\n",
       " 'Polarized, Night Vision, Riding Glasses Sports, Wrap-ar...',\n",
       " 'Riding Glasses, UV Protection Oval Sunglasses (48)',\n",
       " 'UV Protection, Gradient Rectangular Sunglasses (Free Si...',\n",
       " 'by Lenskart Polarized, UV Protection Wayfarer Sunglasse...',\n",
       " 'UV Protection Retro Square Sunglasses (Free Size)',\n",
       " 'UV Protection Round Sunglasses (54)',\n",
       " 'UV Protection Rectangular Sunglasses (Free Size)',\n",
       " 'Mirrored Aviator Sunglasses (55)',\n",
       " 'UV Protection Round Sunglasses (53)',\n",
       " 'UV Protection, Mirrored Retro Square Sunglasses (53)',\n",
       " 'UV Protection, Others Round, Aviator Sunglasses (54)',\n",
       " 'by Lenskart Polarized, UV Protection Wayfarer Sunglasse...',\n",
       " 'UV Protection, Polarized, Mirrored Retro Square Sunglas...',\n",
       " 'Gradient, UV Protection Wayfarer Sunglasses (Free Size)',\n",
       " 'UV Protection Retro Square Sunglasses (53)',\n",
       " 'Polarized Retro Square Sunglasses (59)',\n",
       " 'UV Protection Aviator Sunglasses (57)',\n",
       " 'UV Protection Round Sunglasses (50)',\n",
       " 'UV Protection, Riding Glasses Rectangular, Wayfarer, Ov...',\n",
       " 'by Lenskart Polarized, UV Protection Round Sunglasses (...',\n",
       " 'UV Protection Aviator Sunglasses (54)',\n",
       " 'Polarized Round Sunglasses (48)',\n",
       " 'Riding Glasses, Night Vision Wrap-around Sunglasses (Fr...',\n",
       " 'Polarized, UV Protection Wayfarer Sunglasses (61)']"
      ]
     },
     "execution_count": 34,
     "metadata": {},
     "output_type": "execute_result"
    }
   ],
   "source": [
    "description_titles"
   ]
  },
  {
   "cell_type": "code",
   "execution_count": 35,
   "id": "1f312bd5",
   "metadata": {},
   "outputs": [
    {
     "data": {
      "text/plain": [
       "1"
      ]
     },
     "execution_count": 35,
     "metadata": {},
     "output_type": "execute_result"
    }
   ],
   "source": [
    "next_page = driver.find_elements_by_xpath('/html/body/div[1]/div/div[3]/div[1]/div[2]/div[12]/div/div/nav/a[11]')\n",
    "len(next_page)"
   ]
  },
  {
   "cell_type": "code",
   "execution_count": 36,
   "id": "84d04fdf",
   "metadata": {},
   "outputs": [
    {
     "data": {
      "text/plain": [
       "[<selenium.webdriver.remote.webelement.WebElement (session=\"12d7bc1485fb12fe062872270605a56b\", element=\"85121b14-d49a-48de-b8a8-02a24d907074\")>]"
      ]
     },
     "execution_count": 36,
     "metadata": {},
     "output_type": "execute_result"
    }
   ],
   "source": [
    "next_page"
   ]
  },
  {
   "cell_type": "code",
   "execution_count": 37,
   "id": "174a0d6d",
   "metadata": {},
   "outputs": [
    {
     "data": {
      "text/plain": [
       "40"
      ]
     },
     "execution_count": 37,
     "metadata": {},
     "output_type": "execute_result"
    }
   ],
   "source": [
    "brand_tags = driver.find_elements_by_xpath('//div[@class=\"_2WkVRV\"]')\n",
    "len(brand_tags)"
   ]
  },
  {
   "cell_type": "code",
   "execution_count": 38,
   "id": "50762b3b",
   "metadata": {},
   "outputs": [],
   "source": [
    "brand_titles = []\n",
    "for i in brand_tags:\n",
    "    brand_titles.append(i.text)\n",
    "    len(brand_titles)"
   ]
  },
  {
   "cell_type": "code",
   "execution_count": 39,
   "id": "08d0054b",
   "metadata": {},
   "outputs": [
    {
     "data": {
      "text/plain": [
       "['Singco India',\n",
       " 'ROZZETTA CRAFT',\n",
       " 'Elligator',\n",
       " 'SRPM',\n",
       " 'Fastrack',\n",
       " 'SUNBEE',\n",
       " 'PIRASO',\n",
       " 'ROZZETTA CRAFT',\n",
       " 'New Specs',\n",
       " 'SHAAH COLLECTIONS',\n",
       " 'SHAAH COLLECTIONS',\n",
       " 'ROZZETTA CRAFT',\n",
       " 'SUNBEE',\n",
       " 'kingsunglasses',\n",
       " 'Fastrack',\n",
       " 'ROZZETTA CRAFT',\n",
       " 'ROZZETTA CRAFT',\n",
       " 'Johaena',\n",
       " 'ROZZETTA CRAFT',\n",
       " 'VINCENT CHASE',\n",
       " 'PHENOMENAL',\n",
       " 'Elligator',\n",
       " 'Lee Topper',\n",
       " 'ROYAL SON',\n",
       " 'Elligator',\n",
       " 'PHENOMENAL',\n",
       " 'kingsunglasses',\n",
       " 'VINCENT CHASE',\n",
       " 'SUNBEE',\n",
       " 'Fastrack',\n",
       " 'PHENOMENAL',\n",
       " 'ROYAL SON',\n",
       " 'GANSTA',\n",
       " 'Elligator',\n",
       " 'maxa',\n",
       " 'VINCENT CHASE',\n",
       " 'PIRASO',\n",
       " 'Rich Club',\n",
       " 'Lee Topper',\n",
       " 'ROYAL SON']"
      ]
     },
     "execution_count": 39,
     "metadata": {},
     "output_type": "execute_result"
    }
   ],
   "source": [
    "brand_titles"
   ]
  },
  {
   "cell_type": "code",
   "execution_count": 40,
   "id": "c63010d6",
   "metadata": {},
   "outputs": [
    {
     "data": {
      "text/plain": [
       "40"
      ]
     },
     "execution_count": 40,
     "metadata": {},
     "output_type": "execute_result"
    }
   ],
   "source": [
    "price_tags = driver.find_elements_by_xpath('//div[@class=\"_30jeq3\"]')\n",
    "len(price_tags)"
   ]
  },
  {
   "cell_type": "code",
   "execution_count": 41,
   "id": "966afd3f",
   "metadata": {},
   "outputs": [],
   "source": [
    "price_titles = []\n",
    "for i in price_tags:\n",
    "    price_titles.append(i.text)\n",
    "    len(price_titles)"
   ]
  },
  {
   "cell_type": "code",
   "execution_count": 42,
   "id": "ad4eeb5f",
   "metadata": {},
   "outputs": [
    {
     "data": {
      "text/plain": [
       "['₹664',\n",
       " '₹499',\n",
       " '₹248',\n",
       " '₹188',\n",
       " '₹489',\n",
       " '₹271',\n",
       " '₹229',\n",
       " '₹449',\n",
       " '₹234',\n",
       " '₹165',\n",
       " '₹181',\n",
       " '₹349',\n",
       " '₹243',\n",
       " '₹186',\n",
       " '₹639',\n",
       " '₹649',\n",
       " '₹499',\n",
       " '₹146',\n",
       " '₹399',\n",
       " '₹1,533',\n",
       " '₹309',\n",
       " '₹265',\n",
       " '₹199',\n",
       " '₹359',\n",
       " '₹189',\n",
       " '₹299',\n",
       " '₹174',\n",
       " '₹1,533',\n",
       " '₹235',\n",
       " '₹626',\n",
       " '₹269',\n",
       " '₹664',\n",
       " '₹269',\n",
       " '₹230',\n",
       " '₹144',\n",
       " '₹1,415',\n",
       " '₹250',\n",
       " '₹165',\n",
       " '₹276',\n",
       " '₹699']"
      ]
     },
     "execution_count": 42,
     "metadata": {},
     "output_type": "execute_result"
    }
   ],
   "source": [
    "price_titles"
   ]
  },
  {
   "cell_type": "code",
   "execution_count": 43,
   "id": "ac97078f",
   "metadata": {},
   "outputs": [
    {
     "data": {
      "text/plain": [
       "40"
      ]
     },
     "execution_count": 43,
     "metadata": {},
     "output_type": "execute_result"
    }
   ],
   "source": [
    "description_tags = driver.find_elements_by_xpath('//a[@class=\"IRpwTa\"]')\n",
    "len(description_tags)"
   ]
  },
  {
   "cell_type": "code",
   "execution_count": 44,
   "id": "516ed9c2",
   "metadata": {},
   "outputs": [],
   "source": [
    "description_titles = []\n",
    "for i in description_tags:\n",
    "    description_titles.append(i.text)\n",
    "    len(description_titles)"
   ]
  },
  {
   "cell_type": "code",
   "execution_count": 45,
   "id": "d4cc0d20",
   "metadata": {},
   "outputs": [
    {
     "data": {
      "text/plain": [
       "['Gradient, Toughened Glass Lens, UV Protection Retro Squ...',\n",
       " 'UV Protection, Gradient Retro Square Sunglasses (62)',\n",
       " 'UV Protection Round Sunglasses (54)',\n",
       " 'UV Protection Wayfarer Sunglasses (50)',\n",
       " 'Gradient, UV Protection Wayfarer Sunglasses (Free Size)',\n",
       " 'UV Protection, Polarized, Mirrored Round Sunglasses (Fr...',\n",
       " 'UV Protection Aviator Sunglasses (54)',\n",
       " 'UV Protection, Riding Glasses Rectangular Sunglasses (F...',\n",
       " 'UV Protection Rectangular Sunglasses (Free Size)',\n",
       " 'UV Protection, Polarized, Mirrored Rectangular Sunglass...',\n",
       " 'UV Protection, Polarized, Mirrored Rectangular Sunglass...',\n",
       " 'UV Protection, Gradient Retro Square Sunglasses (Free S...',\n",
       " 'UV Protection, Polarized Wayfarer Sunglasses (Free Size...',\n",
       " 'UV Protection Round Sunglasses (54)',\n",
       " 'UV Protection Rectangular Sunglasses (Free Size)',\n",
       " 'UV Protection Aviator Sunglasses (62)',\n",
       " 'Polarized, Night Vision, Riding Glasses Sports, Wrap-ar...',\n",
       " 'Riding Glasses, UV Protection Oval Sunglasses (48)',\n",
       " 'UV Protection, Gradient Rectangular Sunglasses (Free Si...',\n",
       " 'by Lenskart Polarized, UV Protection Wayfarer Sunglasse...',\n",
       " 'UV Protection Retro Square Sunglasses (Free Size)',\n",
       " 'UV Protection Round Sunglasses (54)',\n",
       " 'UV Protection Rectangular Sunglasses (Free Size)',\n",
       " 'Mirrored Aviator Sunglasses (55)',\n",
       " 'UV Protection Round Sunglasses (53)',\n",
       " 'UV Protection, Mirrored Retro Square Sunglasses (53)',\n",
       " 'UV Protection, Others Round, Aviator Sunglasses (54)',\n",
       " 'by Lenskart Polarized, UV Protection Wayfarer Sunglasse...',\n",
       " 'UV Protection, Polarized, Mirrored Retro Square Sunglas...',\n",
       " 'Gradient, UV Protection Wayfarer Sunglasses (Free Size)',\n",
       " 'UV Protection Retro Square Sunglasses (53)',\n",
       " 'Polarized Retro Square Sunglasses (59)',\n",
       " 'UV Protection Aviator Sunglasses (57)',\n",
       " 'UV Protection Round Sunglasses (50)',\n",
       " 'UV Protection, Riding Glasses Rectangular, Wayfarer, Ov...',\n",
       " 'by Lenskart Polarized, UV Protection Round Sunglasses (...',\n",
       " 'UV Protection Aviator Sunglasses (54)',\n",
       " 'Polarized Round Sunglasses (48)',\n",
       " 'Riding Glasses, Night Vision Wrap-around Sunglasses (Fr...',\n",
       " 'Polarized, UV Protection Wayfarer Sunglasses (61)']"
      ]
     },
     "execution_count": 45,
     "metadata": {},
     "output_type": "execute_result"
    }
   ],
   "source": [
    "description_titles"
   ]
  },
  {
   "cell_type": "code",
   "execution_count": 46,
   "id": "b1679f24",
   "metadata": {},
   "outputs": [
    {
     "data": {
      "text/plain": [
       "1"
      ]
     },
     "execution_count": 46,
     "metadata": {},
     "output_type": "execute_result"
    }
   ],
   "source": [
    "next_page = driver.find_elements_by_xpath('/html/body/div[1]/div/div[3]/div[1]/div[2]/div[12]/div/div/nav/a[11]')\n",
    "len(next_page)"
   ]
  },
  {
   "cell_type": "code",
   "execution_count": 57,
   "id": "49198a10",
   "metadata": {},
   "outputs": [
    {
     "data": {
      "text/plain": [
       "[<selenium.webdriver.remote.webelement.WebElement (session=\"12d7bc1485fb12fe062872270605a56b\", element=\"85121b14-d49a-48de-b8a8-02a24d907074\")>]"
      ]
     },
     "execution_count": 57,
     "metadata": {},
     "output_type": "execute_result"
    }
   ],
   "source": [
    "next_page"
   ]
  },
  {
   "cell_type": "code",
   "execution_count": 58,
   "id": "7a0e9b26",
   "metadata": {},
   "outputs": [
    {
     "data": {
      "text/plain": [
       "40"
      ]
     },
     "execution_count": 58,
     "metadata": {},
     "output_type": "execute_result"
    }
   ],
   "source": [
    "brand_tags = driver.find_elements_by_xpath('//div[@class=\"_2WkVRV\"]')\n",
    "len(brand_tags)"
   ]
  },
  {
   "cell_type": "code",
   "execution_count": 59,
   "id": "4a9435a5",
   "metadata": {},
   "outputs": [],
   "source": [
    "brand_titles = []\n",
    "for i in brand_tags:\n",
    "    brand_titles.append(i.text)\n",
    "    len(brand_titles)"
   ]
  },
  {
   "cell_type": "code",
   "execution_count": 60,
   "id": "647d12dc",
   "metadata": {},
   "outputs": [
    {
     "data": {
      "text/plain": [
       "[<selenium.webdriver.remote.webelement.WebElement (session=\"12d7bc1485fb12fe062872270605a56b\", element=\"f1acbd74-1bda-4c8c-b54d-173ca4d231d0\")>,\n",
       " <selenium.webdriver.remote.webelement.WebElement (session=\"12d7bc1485fb12fe062872270605a56b\", element=\"46339fc8-8793-4fb9-bedf-01e99cbdbe50\")>,\n",
       " <selenium.webdriver.remote.webelement.WebElement (session=\"12d7bc1485fb12fe062872270605a56b\", element=\"c397d1b4-2c0e-47fe-9fa6-540404dee755\")>,\n",
       " <selenium.webdriver.remote.webelement.WebElement (session=\"12d7bc1485fb12fe062872270605a56b\", element=\"17f84761-3e87-48ea-a0b3-e386d1169379\")>,\n",
       " <selenium.webdriver.remote.webelement.WebElement (session=\"12d7bc1485fb12fe062872270605a56b\", element=\"bde685c7-35ee-4719-ae65-f3b872ebdba5\")>,\n",
       " <selenium.webdriver.remote.webelement.WebElement (session=\"12d7bc1485fb12fe062872270605a56b\", element=\"0c6c80a9-b675-4d23-a4e6-b3b81fc69fc6\")>,\n",
       " <selenium.webdriver.remote.webelement.WebElement (session=\"12d7bc1485fb12fe062872270605a56b\", element=\"2319331c-7796-48bb-bb34-7417379d1943\")>,\n",
       " <selenium.webdriver.remote.webelement.WebElement (session=\"12d7bc1485fb12fe062872270605a56b\", element=\"cbe349dc-0bda-43f9-80e3-e389285c2701\")>,\n",
       " <selenium.webdriver.remote.webelement.WebElement (session=\"12d7bc1485fb12fe062872270605a56b\", element=\"f89a28c4-3531-4240-850c-49fc82e4d749\")>,\n",
       " <selenium.webdriver.remote.webelement.WebElement (session=\"12d7bc1485fb12fe062872270605a56b\", element=\"e49e1750-cd99-401f-b605-8bce2bbfae44\")>,\n",
       " <selenium.webdriver.remote.webelement.WebElement (session=\"12d7bc1485fb12fe062872270605a56b\", element=\"7081f101-6b79-444c-a9c0-f04e6e0a0793\")>,\n",
       " <selenium.webdriver.remote.webelement.WebElement (session=\"12d7bc1485fb12fe062872270605a56b\", element=\"988f350f-2e07-48ca-b8c4-8cedac45aa4a\")>,\n",
       " <selenium.webdriver.remote.webelement.WebElement (session=\"12d7bc1485fb12fe062872270605a56b\", element=\"734f9b09-6ebc-45b2-81ed-203eaa77b7fd\")>,\n",
       " <selenium.webdriver.remote.webelement.WebElement (session=\"12d7bc1485fb12fe062872270605a56b\", element=\"87d345e4-3f5c-4c66-b9d2-16ee2b235e41\")>,\n",
       " <selenium.webdriver.remote.webelement.WebElement (session=\"12d7bc1485fb12fe062872270605a56b\", element=\"48feb31d-5f52-44ad-a402-472a95cb05fd\")>,\n",
       " <selenium.webdriver.remote.webelement.WebElement (session=\"12d7bc1485fb12fe062872270605a56b\", element=\"4027d6bd-2be9-4acd-a2d3-b1ec6d20d2fa\")>,\n",
       " <selenium.webdriver.remote.webelement.WebElement (session=\"12d7bc1485fb12fe062872270605a56b\", element=\"708b94d1-631d-4205-ae2d-3926d3633f00\")>,\n",
       " <selenium.webdriver.remote.webelement.WebElement (session=\"12d7bc1485fb12fe062872270605a56b\", element=\"a6ccf942-814b-4cf2-b707-bf73cbbd6870\")>,\n",
       " <selenium.webdriver.remote.webelement.WebElement (session=\"12d7bc1485fb12fe062872270605a56b\", element=\"5da17827-f264-4cb8-8ca5-1a5d9247ff04\")>,\n",
       " <selenium.webdriver.remote.webelement.WebElement (session=\"12d7bc1485fb12fe062872270605a56b\", element=\"037bf36a-290d-4e94-8ac0-e821ada9368b\")>,\n",
       " <selenium.webdriver.remote.webelement.WebElement (session=\"12d7bc1485fb12fe062872270605a56b\", element=\"363ff713-7f45-4d61-99d0-f8ea27a66332\")>,\n",
       " <selenium.webdriver.remote.webelement.WebElement (session=\"12d7bc1485fb12fe062872270605a56b\", element=\"c8e0e2cc-18af-4202-aba8-77d0f01fca68\")>,\n",
       " <selenium.webdriver.remote.webelement.WebElement (session=\"12d7bc1485fb12fe062872270605a56b\", element=\"2e0bda13-78f4-46a5-9a5b-3a244bf8f45f\")>,\n",
       " <selenium.webdriver.remote.webelement.WebElement (session=\"12d7bc1485fb12fe062872270605a56b\", element=\"8aa00d4c-e5ce-44ad-ba18-2af7baa7ce04\")>,\n",
       " <selenium.webdriver.remote.webelement.WebElement (session=\"12d7bc1485fb12fe062872270605a56b\", element=\"f5857bc8-8b7c-45c2-897e-cbca67425c3f\")>,\n",
       " <selenium.webdriver.remote.webelement.WebElement (session=\"12d7bc1485fb12fe062872270605a56b\", element=\"bb271308-e531-43d2-9c88-541aa11b633e\")>,\n",
       " <selenium.webdriver.remote.webelement.WebElement (session=\"12d7bc1485fb12fe062872270605a56b\", element=\"2401eada-62d1-49a5-b2ad-02ad179cbced\")>,\n",
       " <selenium.webdriver.remote.webelement.WebElement (session=\"12d7bc1485fb12fe062872270605a56b\", element=\"09c48266-a12d-460f-beb0-7e6189d09263\")>,\n",
       " <selenium.webdriver.remote.webelement.WebElement (session=\"12d7bc1485fb12fe062872270605a56b\", element=\"3fdbc7b2-532c-46ef-a1b4-25443fa74cbc\")>,\n",
       " <selenium.webdriver.remote.webelement.WebElement (session=\"12d7bc1485fb12fe062872270605a56b\", element=\"1b4ba0fc-a5c7-4b5e-8149-a2964eee0687\")>,\n",
       " <selenium.webdriver.remote.webelement.WebElement (session=\"12d7bc1485fb12fe062872270605a56b\", element=\"855e633f-23d6-4325-ac53-3f5805392bcd\")>,\n",
       " <selenium.webdriver.remote.webelement.WebElement (session=\"12d7bc1485fb12fe062872270605a56b\", element=\"624ebbcd-b146-4d06-80d2-4332f190e053\")>,\n",
       " <selenium.webdriver.remote.webelement.WebElement (session=\"12d7bc1485fb12fe062872270605a56b\", element=\"6318988d-84a4-4767-80c0-0338ada77713\")>,\n",
       " <selenium.webdriver.remote.webelement.WebElement (session=\"12d7bc1485fb12fe062872270605a56b\", element=\"1a579634-792a-4b66-ab06-cb3ce7483955\")>,\n",
       " <selenium.webdriver.remote.webelement.WebElement (session=\"12d7bc1485fb12fe062872270605a56b\", element=\"d140956c-3389-40ee-a2d2-ad6854fe30ec\")>,\n",
       " <selenium.webdriver.remote.webelement.WebElement (session=\"12d7bc1485fb12fe062872270605a56b\", element=\"d4d56f8e-9fae-4c40-82f9-048d0bef4a9b\")>,\n",
       " <selenium.webdriver.remote.webelement.WebElement (session=\"12d7bc1485fb12fe062872270605a56b\", element=\"905e94c2-ffb6-4304-b145-ea656fa92a82\")>,\n",
       " <selenium.webdriver.remote.webelement.WebElement (session=\"12d7bc1485fb12fe062872270605a56b\", element=\"14d6630b-0523-47a2-89b0-45b5171593a6\")>,\n",
       " <selenium.webdriver.remote.webelement.WebElement (session=\"12d7bc1485fb12fe062872270605a56b\", element=\"81d6522b-a770-4416-9875-f7770297f84f\")>,\n",
       " <selenium.webdriver.remote.webelement.WebElement (session=\"12d7bc1485fb12fe062872270605a56b\", element=\"352dfc76-9aa9-4246-81a1-c7d5da616dac\")>]"
      ]
     },
     "execution_count": 60,
     "metadata": {},
     "output_type": "execute_result"
    }
   ],
   "source": [
    "brand_tags"
   ]
  },
  {
   "cell_type": "code",
   "execution_count": 61,
   "id": "4bdb6c33",
   "metadata": {},
   "outputs": [
    {
     "data": {
      "text/plain": [
       "40"
      ]
     },
     "execution_count": 61,
     "metadata": {},
     "output_type": "execute_result"
    }
   ],
   "source": [
    "price_tags = driver.find_elements_by_xpath('//div[@class=\"_30jeq3\"]')\n",
    "len(price_tags)"
   ]
  },
  {
   "cell_type": "code",
   "execution_count": 62,
   "id": "2196af46",
   "metadata": {},
   "outputs": [],
   "source": [
    "price_titles = []\n",
    "for i in price_tags:\n",
    "    price_titles.append(i.text)\n",
    "    len(price_titles)"
   ]
  },
  {
   "cell_type": "code",
   "execution_count": 63,
   "id": "0dce50cf",
   "metadata": {},
   "outputs": [
    {
     "data": {
      "text/plain": [
       "['₹664',\n",
       " '₹499',\n",
       " '₹248',\n",
       " '₹188',\n",
       " '₹489',\n",
       " '₹271',\n",
       " '₹229',\n",
       " '₹449',\n",
       " '₹234',\n",
       " '₹165',\n",
       " '₹181',\n",
       " '₹349',\n",
       " '₹243',\n",
       " '₹186',\n",
       " '₹639',\n",
       " '₹649',\n",
       " '₹499',\n",
       " '₹146',\n",
       " '₹399',\n",
       " '₹1,533',\n",
       " '₹309',\n",
       " '₹265',\n",
       " '₹199',\n",
       " '₹359',\n",
       " '₹189',\n",
       " '₹299',\n",
       " '₹174',\n",
       " '₹1,533',\n",
       " '₹235',\n",
       " '₹626',\n",
       " '₹269',\n",
       " '₹664',\n",
       " '₹269',\n",
       " '₹230',\n",
       " '₹144',\n",
       " '₹1,415',\n",
       " '₹250',\n",
       " '₹165',\n",
       " '₹276',\n",
       " '₹699']"
      ]
     },
     "execution_count": 63,
     "metadata": {},
     "output_type": "execute_result"
    }
   ],
   "source": [
    "price_titles"
   ]
  },
  {
   "cell_type": "code",
   "execution_count": 64,
   "id": "211d3841",
   "metadata": {},
   "outputs": [
    {
     "data": {
      "text/plain": [
       "40"
      ]
     },
     "execution_count": 64,
     "metadata": {},
     "output_type": "execute_result"
    }
   ],
   "source": [
    "description_tags = driver.find_elements_by_xpath('//a[@class=\"IRpwTa\"]')\n",
    "len(description_tags)"
   ]
  },
  {
   "cell_type": "code",
   "execution_count": 65,
   "id": "9661e7fa",
   "metadata": {},
   "outputs": [],
   "source": [
    "description_titles = []\n",
    "for i in description_tags:\n",
    "    description_titles.append(i.text)\n",
    "    len(description_titles)"
   ]
  },
  {
   "cell_type": "code",
   "execution_count": 66,
   "id": "2677177e",
   "metadata": {},
   "outputs": [
    {
     "data": {
      "text/plain": [
       "['Gradient, Toughened Glass Lens, UV Protection Retro Squ...',\n",
       " 'UV Protection, Gradient Retro Square Sunglasses (62)',\n",
       " 'UV Protection Round Sunglasses (54)',\n",
       " 'UV Protection Wayfarer Sunglasses (50)',\n",
       " 'Gradient, UV Protection Wayfarer Sunglasses (Free Size)',\n",
       " 'UV Protection, Polarized, Mirrored Round Sunglasses (Fr...',\n",
       " 'UV Protection Aviator Sunglasses (54)',\n",
       " 'UV Protection, Riding Glasses Rectangular Sunglasses (F...',\n",
       " 'UV Protection Rectangular Sunglasses (Free Size)',\n",
       " 'UV Protection, Polarized, Mirrored Rectangular Sunglass...',\n",
       " 'UV Protection, Polarized, Mirrored Rectangular Sunglass...',\n",
       " 'UV Protection, Gradient Retro Square Sunglasses (Free S...',\n",
       " 'UV Protection, Polarized Wayfarer Sunglasses (Free Size...',\n",
       " 'UV Protection Round Sunglasses (54)',\n",
       " 'UV Protection Rectangular Sunglasses (Free Size)',\n",
       " 'UV Protection Aviator Sunglasses (62)',\n",
       " 'Polarized, Night Vision, Riding Glasses Sports, Wrap-ar...',\n",
       " 'Riding Glasses, UV Protection Oval Sunglasses (48)',\n",
       " 'UV Protection, Gradient Rectangular Sunglasses (Free Si...',\n",
       " 'by Lenskart Polarized, UV Protection Wayfarer Sunglasse...',\n",
       " 'UV Protection Retro Square Sunglasses (Free Size)',\n",
       " 'UV Protection Round Sunglasses (54)',\n",
       " 'UV Protection Rectangular Sunglasses (Free Size)',\n",
       " 'Mirrored Aviator Sunglasses (55)',\n",
       " 'UV Protection Round Sunglasses (53)',\n",
       " 'UV Protection, Mirrored Retro Square Sunglasses (53)',\n",
       " 'UV Protection, Others Round, Aviator Sunglasses (54)',\n",
       " 'by Lenskart Polarized, UV Protection Wayfarer Sunglasse...',\n",
       " 'UV Protection, Polarized, Mirrored Retro Square Sunglas...',\n",
       " 'Gradient, UV Protection Wayfarer Sunglasses (Free Size)',\n",
       " 'UV Protection Retro Square Sunglasses (53)',\n",
       " 'Polarized Retro Square Sunglasses (59)',\n",
       " 'UV Protection Aviator Sunglasses (57)',\n",
       " 'UV Protection Round Sunglasses (50)',\n",
       " 'UV Protection, Riding Glasses Rectangular, Wayfarer, Ov...',\n",
       " 'by Lenskart Polarized, UV Protection Round Sunglasses (...',\n",
       " 'UV Protection Aviator Sunglasses (54)',\n",
       " 'Polarized Round Sunglasses (48)',\n",
       " 'Riding Glasses, Night Vision Wrap-around Sunglasses (Fr...',\n",
       " 'Polarized, UV Protection Wayfarer Sunglasses (61)']"
      ]
     },
     "execution_count": 66,
     "metadata": {},
     "output_type": "execute_result"
    }
   ],
   "source": [
    "description_titles"
   ]
  },
  {
   "cell_type": "code",
   "execution_count": 67,
   "id": "08049f52",
   "metadata": {},
   "outputs": [
    {
     "data": {
      "text/plain": [
       "(40, 40, 40)"
      ]
     },
     "execution_count": 67,
     "metadata": {},
     "output_type": "execute_result"
    }
   ],
   "source": [
    "len(description_titles),len(price_titles),len(brand_titles)"
   ]
  },
  {
   "cell_type": "code",
   "execution_count": 69,
   "id": "b45101e8",
   "metadata": {},
   "outputs": [
    {
     "data": {
      "text/html": [
       "<div>\n",
       "<style scoped>\n",
       "    .dataframe tbody tr th:only-of-type {\n",
       "        vertical-align: middle;\n",
       "    }\n",
       "\n",
       "    .dataframe tbody tr th {\n",
       "        vertical-align: top;\n",
       "    }\n",
       "\n",
       "    .dataframe thead th {\n",
       "        text-align: right;\n",
       "    }\n",
       "</style>\n",
       "<table border=\"1\" class=\"dataframe\">\n",
       "  <thead>\n",
       "    <tr style=\"text-align: right;\">\n",
       "      <th></th>\n",
       "      <th>Description Title</th>\n",
       "      <th>Price</th>\n",
       "      <th>Brand</th>\n",
       "    </tr>\n",
       "  </thead>\n",
       "  <tbody>\n",
       "    <tr>\n",
       "      <th>0</th>\n",
       "      <td>Gradient, Toughened Glass Lens, UV Protection ...</td>\n",
       "      <td>₹664</td>\n",
       "      <td>Singco India</td>\n",
       "    </tr>\n",
       "    <tr>\n",
       "      <th>1</th>\n",
       "      <td>UV Protection Aviator Sunglasses (55)</td>\n",
       "      <td>₹202</td>\n",
       "      <td>PIRASO</td>\n",
       "    </tr>\n",
       "    <tr>\n",
       "      <th>2</th>\n",
       "      <td>UV Protection Round Sunglasses (54)</td>\n",
       "      <td>₹248</td>\n",
       "      <td>Elligator</td>\n",
       "    </tr>\n",
       "    <tr>\n",
       "      <th>3</th>\n",
       "      <td>UV Protection Wayfarer Sunglasses (50)</td>\n",
       "      <td>₹149</td>\n",
       "      <td>SRPM</td>\n",
       "    </tr>\n",
       "    <tr>\n",
       "      <th>4</th>\n",
       "      <td>Gradient, UV Protection Wayfarer Sunglasses (F...</td>\n",
       "      <td>₹489</td>\n",
       "      <td>Fastrack</td>\n",
       "    </tr>\n",
       "    <tr>\n",
       "      <th>5</th>\n",
       "      <td>UV Protection Aviator Sunglasses (54)</td>\n",
       "      <td>₹180</td>\n",
       "      <td>PIRASO</td>\n",
       "    </tr>\n",
       "    <tr>\n",
       "      <th>6</th>\n",
       "      <td>UV Protection Rectangular Sunglasses (Free Size)</td>\n",
       "      <td>₹234</td>\n",
       "      <td>New Specs</td>\n",
       "    </tr>\n",
       "    <tr>\n",
       "      <th>7</th>\n",
       "      <td>UV Protection Clubmaster Sunglasses (53)</td>\n",
       "      <td>₹367</td>\n",
       "      <td>Silver Kartz</td>\n",
       "    </tr>\n",
       "    <tr>\n",
       "      <th>8</th>\n",
       "      <td>UV Protection, Polarized, Mirrored Rectangular...</td>\n",
       "      <td>₹165</td>\n",
       "      <td>SHAAH COLLECTIONS</td>\n",
       "    </tr>\n",
       "    <tr>\n",
       "      <th>9</th>\n",
       "      <td>UV Protection, Polarized, Mirrored Round Sungl...</td>\n",
       "      <td>₹271</td>\n",
       "      <td>SUNBEE</td>\n",
       "    </tr>\n",
       "    <tr>\n",
       "      <th>10</th>\n",
       "      <td>UV Protection Round Sunglasses (54)</td>\n",
       "      <td>₹186</td>\n",
       "      <td>kingsunglasses</td>\n",
       "    </tr>\n",
       "    <tr>\n",
       "      <th>11</th>\n",
       "      <td>UV Protection, Gradient Retro Square Sunglasse...</td>\n",
       "      <td>₹499</td>\n",
       "      <td>ROZZETTA CRAFT</td>\n",
       "    </tr>\n",
       "    <tr>\n",
       "      <th>12</th>\n",
       "      <td>UV Protection Rectangular Sunglasses (Free Size)</td>\n",
       "      <td>₹639</td>\n",
       "      <td>Fastrack</td>\n",
       "    </tr>\n",
       "    <tr>\n",
       "      <th>13</th>\n",
       "      <td>UV Protection, Polarized, Mirrored Rectangular...</td>\n",
       "      <td>₹181</td>\n",
       "      <td>SHAAH COLLECTIONS</td>\n",
       "    </tr>\n",
       "    <tr>\n",
       "      <th>14</th>\n",
       "      <td>UV Protection, Polarized Wayfarer Sunglasses (...</td>\n",
       "      <td>₹243</td>\n",
       "      <td>SUNBEE</td>\n",
       "    </tr>\n",
       "    <tr>\n",
       "      <th>15</th>\n",
       "      <td>UV Protection, Riding Glasses Rectangular Sung...</td>\n",
       "      <td>₹449</td>\n",
       "      <td>ROZZETTA CRAFT</td>\n",
       "    </tr>\n",
       "    <tr>\n",
       "      <th>16</th>\n",
       "      <td>Polarized, Night Vision, Riding Glasses Sports...</td>\n",
       "      <td>₹499</td>\n",
       "      <td>ROZZETTA CRAFT</td>\n",
       "    </tr>\n",
       "    <tr>\n",
       "      <th>17</th>\n",
       "      <td>UV Protection, Gradient Rectangular Sunglasses...</td>\n",
       "      <td>₹399</td>\n",
       "      <td>ROZZETTA CRAFT</td>\n",
       "    </tr>\n",
       "    <tr>\n",
       "      <th>18</th>\n",
       "      <td>UV Protection Retro Square Sunglasses (Free Size)</td>\n",
       "      <td>₹309</td>\n",
       "      <td>PHENOMENAL</td>\n",
       "    </tr>\n",
       "    <tr>\n",
       "      <th>19</th>\n",
       "      <td>UV Protection Aviator Sunglasses (88)</td>\n",
       "      <td>₹255</td>\n",
       "      <td>Silver Kartz</td>\n",
       "    </tr>\n",
       "    <tr>\n",
       "      <th>20</th>\n",
       "      <td>UV Protection Round Sunglasses (53)</td>\n",
       "      <td>₹189</td>\n",
       "      <td>Elligator</td>\n",
       "    </tr>\n",
       "    <tr>\n",
       "      <th>21</th>\n",
       "      <td>UV Protection Round Sunglasses (54)</td>\n",
       "      <td>₹265</td>\n",
       "      <td>Elligator</td>\n",
       "    </tr>\n",
       "    <tr>\n",
       "      <th>22</th>\n",
       "      <td>UV Protection, Mirrored Retro Square Sunglasse...</td>\n",
       "      <td>₹299</td>\n",
       "      <td>PHENOMENAL</td>\n",
       "    </tr>\n",
       "    <tr>\n",
       "      <th>23</th>\n",
       "      <td>UV Protection Rectangular, Over-sized Sunglass...</td>\n",
       "      <td>₹325</td>\n",
       "      <td>PIRASO</td>\n",
       "    </tr>\n",
       "    <tr>\n",
       "      <th>24</th>\n",
       "      <td>UV Protection, Others Round, Aviator Sunglasse...</td>\n",
       "      <td>₹174</td>\n",
       "      <td>kingsunglasses</td>\n",
       "    </tr>\n",
       "    <tr>\n",
       "      <th>25</th>\n",
       "      <td>Gradient, UV Protection Wayfarer Sunglasses (F...</td>\n",
       "      <td>₹626</td>\n",
       "      <td>Fastrack</td>\n",
       "    </tr>\n",
       "    <tr>\n",
       "      <th>26</th>\n",
       "      <td>UV Protection, Polarized, Mirrored Retro Squar...</td>\n",
       "      <td>₹235</td>\n",
       "      <td>SUNBEE</td>\n",
       "    </tr>\n",
       "    <tr>\n",
       "      <th>27</th>\n",
       "      <td>UV Protection, Gradient Retro Square Sunglasse...</td>\n",
       "      <td>₹349</td>\n",
       "      <td>ROZZETTA CRAFT</td>\n",
       "    </tr>\n",
       "    <tr>\n",
       "      <th>28</th>\n",
       "      <td>UV Protection Retro Square Sunglasses (53)</td>\n",
       "      <td>₹269</td>\n",
       "      <td>PHENOMENAL</td>\n",
       "    </tr>\n",
       "    <tr>\n",
       "      <th>29</th>\n",
       "      <td>UV Protection Round Sunglasses (50)</td>\n",
       "      <td>₹230</td>\n",
       "      <td>Elligator</td>\n",
       "    </tr>\n",
       "    <tr>\n",
       "      <th>30</th>\n",
       "      <td>UV Protection Aviator Sunglasses (57)</td>\n",
       "      <td>₹269</td>\n",
       "      <td>GANSTA</td>\n",
       "    </tr>\n",
       "    <tr>\n",
       "      <th>31</th>\n",
       "      <td>UV Protection Aviator Sunglasses (Free Size)</td>\n",
       "      <td>₹269</td>\n",
       "      <td>PIRASO</td>\n",
       "    </tr>\n",
       "    <tr>\n",
       "      <th>32</th>\n",
       "      <td>UV Protection Rectangular Sunglasses (Free Size)</td>\n",
       "      <td>₹199</td>\n",
       "      <td>Lee Topper</td>\n",
       "    </tr>\n",
       "    <tr>\n",
       "      <th>33</th>\n",
       "      <td>UV Protection Aviator Sunglasses (54)</td>\n",
       "      <td>₹225</td>\n",
       "      <td>PIRASO</td>\n",
       "    </tr>\n",
       "    <tr>\n",
       "      <th>34</th>\n",
       "      <td>UV Protection, Riding Glasses Rectangular, Way...</td>\n",
       "      <td>₹144</td>\n",
       "      <td>maxa</td>\n",
       "    </tr>\n",
       "    <tr>\n",
       "      <th>35</th>\n",
       "      <td>Mirrored Aviator Sunglasses (55)</td>\n",
       "      <td>₹359</td>\n",
       "      <td>ROYAL SON</td>\n",
       "    </tr>\n",
       "    <tr>\n",
       "      <th>36</th>\n",
       "      <td>Riding Glasses, UV Protection Oval Sunglasses ...</td>\n",
       "      <td>₹146</td>\n",
       "      <td>Johaena</td>\n",
       "    </tr>\n",
       "    <tr>\n",
       "      <th>37</th>\n",
       "      <td>Mirrored, UV Protection, Riding Glasses, Other...</td>\n",
       "      <td>₹259</td>\n",
       "      <td>New Specs</td>\n",
       "    </tr>\n",
       "    <tr>\n",
       "      <th>38</th>\n",
       "      <td>Riding Glasses, Night Vision Wrap-around Sungl...</td>\n",
       "      <td>₹276</td>\n",
       "      <td>Lee Topper</td>\n",
       "    </tr>\n",
       "    <tr>\n",
       "      <th>39</th>\n",
       "      <td>UV Protection Aviator Sunglasses (58)</td>\n",
       "      <td>₹269</td>\n",
       "      <td>PIRASO</td>\n",
       "    </tr>\n",
       "  </tbody>\n",
       "</table>\n",
       "</div>"
      ],
      "text/plain": [
       "                                    Description Title Price              Brand\n",
       "0   Gradient, Toughened Glass Lens, UV Protection ...  ₹664       Singco India\n",
       "1               UV Protection Aviator Sunglasses (55)  ₹202             PIRASO\n",
       "2                 UV Protection Round Sunglasses (54)  ₹248          Elligator\n",
       "3              UV Protection Wayfarer Sunglasses (50)  ₹149               SRPM\n",
       "4   Gradient, UV Protection Wayfarer Sunglasses (F...  ₹489           Fastrack\n",
       "5               UV Protection Aviator Sunglasses (54)  ₹180             PIRASO\n",
       "6    UV Protection Rectangular Sunglasses (Free Size)  ₹234          New Specs\n",
       "7            UV Protection Clubmaster Sunglasses (53)  ₹367       Silver Kartz\n",
       "8   UV Protection, Polarized, Mirrored Rectangular...  ₹165  SHAAH COLLECTIONS\n",
       "9   UV Protection, Polarized, Mirrored Round Sungl...  ₹271             SUNBEE\n",
       "10                UV Protection Round Sunglasses (54)  ₹186     kingsunglasses\n",
       "11  UV Protection, Gradient Retro Square Sunglasse...  ₹499     ROZZETTA CRAFT\n",
       "12   UV Protection Rectangular Sunglasses (Free Size)  ₹639           Fastrack\n",
       "13  UV Protection, Polarized, Mirrored Rectangular...  ₹181  SHAAH COLLECTIONS\n",
       "14  UV Protection, Polarized Wayfarer Sunglasses (...  ₹243             SUNBEE\n",
       "15  UV Protection, Riding Glasses Rectangular Sung...  ₹449     ROZZETTA CRAFT\n",
       "16  Polarized, Night Vision, Riding Glasses Sports...  ₹499     ROZZETTA CRAFT\n",
       "17  UV Protection, Gradient Rectangular Sunglasses...  ₹399     ROZZETTA CRAFT\n",
       "18  UV Protection Retro Square Sunglasses (Free Size)  ₹309         PHENOMENAL\n",
       "19              UV Protection Aviator Sunglasses (88)  ₹255       Silver Kartz\n",
       "20                UV Protection Round Sunglasses (53)  ₹189          Elligator\n",
       "21                UV Protection Round Sunglasses (54)  ₹265          Elligator\n",
       "22  UV Protection, Mirrored Retro Square Sunglasse...  ₹299         PHENOMENAL\n",
       "23  UV Protection Rectangular, Over-sized Sunglass...  ₹325             PIRASO\n",
       "24  UV Protection, Others Round, Aviator Sunglasse...  ₹174     kingsunglasses\n",
       "25  Gradient, UV Protection Wayfarer Sunglasses (F...  ₹626           Fastrack\n",
       "26  UV Protection, Polarized, Mirrored Retro Squar...  ₹235             SUNBEE\n",
       "27  UV Protection, Gradient Retro Square Sunglasse...  ₹349     ROZZETTA CRAFT\n",
       "28         UV Protection Retro Square Sunglasses (53)  ₹269         PHENOMENAL\n",
       "29                UV Protection Round Sunglasses (50)  ₹230          Elligator\n",
       "30              UV Protection Aviator Sunglasses (57)  ₹269             GANSTA\n",
       "31       UV Protection Aviator Sunglasses (Free Size)  ₹269             PIRASO\n",
       "32   UV Protection Rectangular Sunglasses (Free Size)  ₹199         Lee Topper\n",
       "33              UV Protection Aviator Sunglasses (54)  ₹225             PIRASO\n",
       "34  UV Protection, Riding Glasses Rectangular, Way...  ₹144               maxa\n",
       "35                   Mirrored Aviator Sunglasses (55)  ₹359          ROYAL SON\n",
       "36  Riding Glasses, UV Protection Oval Sunglasses ...  ₹146            Johaena\n",
       "37  Mirrored, UV Protection, Riding Glasses, Other...  ₹259          New Specs\n",
       "38  Riding Glasses, Night Vision Wrap-around Sungl...  ₹276         Lee Topper\n",
       "39              UV Protection Aviator Sunglasses (58)  ₹269             PIRASO"
      ]
     },
     "execution_count": 69,
     "metadata": {},
     "output_type": "execute_result"
    }
   ],
   "source": [
    "product = pd.DataFrame()\n",
    "product['Description Title'] = description_titles\n",
    "product['Price'] = price_titles\n",
    "product['Brand'] = brand_titles\n",
    "\n",
    "product"
   ]
  },
  {
   "cell_type": "code",
   "execution_count": null,
   "id": "191ee281",
   "metadata": {},
   "outputs": [],
   "source": []
  }
 ],
 "metadata": {
  "kernelspec": {
   "display_name": "Python 3 (ipykernel)",
   "language": "python",
   "name": "python3"
  },
  "language_info": {
   "codemirror_mode": {
    "name": "ipython",
    "version": 3
   },
   "file_extension": ".py",
   "mimetype": "text/x-python",
   "name": "python",
   "nbconvert_exporter": "python",
   "pygments_lexer": "ipython3",
   "version": "3.9.7"
  }
 },
 "nbformat": 4,
 "nbformat_minor": 5
}
