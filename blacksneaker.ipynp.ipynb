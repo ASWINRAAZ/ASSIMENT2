{
 "cells": [
  {
   "cell_type": "code",
   "execution_count": 1,
   "id": "6647792a",
   "metadata": {},
   "outputs": [
    {
     "name": "stdout",
     "output_type": "stream",
     "text": [
      "Requirement already satisfied: selenium in c:\\users\\raushan kumar\\downloads\\ana\\lib\\site-packages (4.1.0)\n",
      "Requirement already satisfied: trio-websocket~=0.9 in c:\\users\\raushan kumar\\downloads\\ana\\lib\\site-packages (from selenium) (0.9.2)\n",
      "Requirement already satisfied: trio~=0.17 in c:\\users\\raushan kumar\\downloads\\ana\\lib\\site-packages (from selenium) (0.19.0)\n",
      "Requirement already satisfied: urllib3[secure]~=1.26 in c:\\users\\raushan kumar\\downloads\\ana\\lib\\site-packages (from selenium) (1.26.7)\n",
      "Requirement already satisfied: async-generator>=1.9 in c:\\users\\raushan kumar\\downloads\\ana\\lib\\site-packages (from trio~=0.17->selenium) (1.10)\n",
      "Requirement already satisfied: idna in c:\\users\\raushan kumar\\downloads\\ana\\lib\\site-packages (from trio~=0.17->selenium) (3.2)\n",
      "Requirement already satisfied: outcome in c:\\users\\raushan kumar\\downloads\\ana\\lib\\site-packages (from trio~=0.17->selenium) (1.1.0)\n",
      "Requirement already satisfied: attrs>=19.2.0 in c:\\users\\raushan kumar\\downloads\\ana\\lib\\site-packages (from trio~=0.17->selenium) (21.2.0)\n",
      "Requirement already satisfied: sniffio in c:\\users\\raushan kumar\\downloads\\ana\\lib\\site-packages (from trio~=0.17->selenium) (1.2.0)\n",
      "Requirement already satisfied: cffi>=1.14 in c:\\users\\raushan kumar\\downloads\\ana\\lib\\site-packages (from trio~=0.17->selenium) (1.14.6)\n",
      "Requirement already satisfied: sortedcontainers in c:\\users\\raushan kumar\\downloads\\ana\\lib\\site-packages (from trio~=0.17->selenium) (2.4.0)\n",
      "Requirement already satisfied: pycparser in c:\\users\\raushan kumar\\downloads\\ana\\lib\\site-packages (from cffi>=1.14->trio~=0.17->selenium) (2.20)\n",
      "Requirement already satisfied: wsproto>=0.14 in c:\\users\\raushan kumar\\downloads\\ana\\lib\\site-packages (from trio-websocket~=0.9->selenium) (1.0.0)\n",
      "Requirement already satisfied: pyOpenSSL>=0.14 in c:\\users\\raushan kumar\\downloads\\ana\\lib\\site-packages (from urllib3[secure]~=1.26->selenium) (21.0.0)\n",
      "Requirement already satisfied: cryptography>=1.3.4 in c:\\users\\raushan kumar\\downloads\\ana\\lib\\site-packages (from urllib3[secure]~=1.26->selenium) (3.4.8)\n",
      "Requirement already satisfied: certifi in c:\\users\\raushan kumar\\downloads\\ana\\lib\\site-packages (from urllib3[secure]~=1.26->selenium) (2021.10.8)\n",
      "Requirement already satisfied: six>=1.5.2 in c:\\users\\raushan kumar\\downloads\\ana\\lib\\site-packages (from pyOpenSSL>=0.14->urllib3[secure]~=1.26->selenium) (1.16.0)\n",
      "Requirement already satisfied: h11<1,>=0.9.0 in c:\\users\\raushan kumar\\downloads\\ana\\lib\\site-packages (from wsproto>=0.14->trio-websocket~=0.9->selenium) (0.13.0)\n"
     ]
    }
   ],
   "source": [
    "!pip install selenium"
   ]
  },
  {
   "cell_type": "code",
   "execution_count": 2,
   "id": "112f1317",
   "metadata": {},
   "outputs": [],
   "source": [
    "import selenium\n",
    "from selenium import webdriver\n",
    "import pandas as pd\n",
    "import warnings\n",
    "warnings.filterwarnings(\"ignore\")"
   ]
  },
  {
   "cell_type": "code",
   "execution_count": 3,
   "id": "520620cb",
   "metadata": {},
   "outputs": [],
   "source": [
    "driver = webdriver.Chrome('chromedriver.exe')"
   ]
  },
  {
   "cell_type": "code",
   "execution_count": 4,
   "id": "d9b54e51",
   "metadata": {},
   "outputs": [],
   "source": [
    "url = 'https://www.myntra.com/shoes'\n",
    "driver.get(url)"
   ]
  },
  {
   "cell_type": "code",
   "execution_count": 8,
   "id": "a9671e25",
   "metadata": {},
   "outputs": [
    {
     "data": {
      "text/plain": [
       "50"
      ]
     },
     "execution_count": 8,
     "metadata": {},
     "output_type": "execute_result"
    }
   ],
   "source": [
    "brand_tags = driver.find_elements_by_xpath('//h3[@class=\"product-brand\"]')\n",
    "len(brand_tags)"
   ]
  },
  {
   "cell_type": "code",
   "execution_count": 9,
   "id": "9fbef4b0",
   "metadata": {},
   "outputs": [],
   "source": [
    "brand_titles = []\n",
    "for i in brand_tags:\n",
    "    brand_titles.append(i.text)\n",
    "    len(brand_titles)"
   ]
  },
  {
   "cell_type": "code",
   "execution_count": 10,
   "id": "a6a54e5b",
   "metadata": {},
   "outputs": [
    {
     "data": {
      "text/plain": [
       "['HIGHLANDER',\n",
       " 'Newfeel By Decathlon',\n",
       " 'U.S. Polo Assn.',\n",
       " 'Nike',\n",
       " 'U.S. Polo Assn.',\n",
       " 'Red Tape',\n",
       " 'Roadster',\n",
       " 'HRX by Hrithik Roshan',\n",
       " 'Mactree',\n",
       " 'ALDO',\n",
       " 'Nike',\n",
       " 'U.S. Polo Assn.',\n",
       " 'Nike',\n",
       " 'Puma',\n",
       " 'Roadster',\n",
       " 'HIGHLANDER',\n",
       " 'Red Tape',\n",
       " 'TWIN TOES',\n",
       " 'SUBEA By Decathlon',\n",
       " 'MENGLER',\n",
       " 'Nike',\n",
       " 'HRX by Hrithik Roshan',\n",
       " 'Red Tape',\n",
       " 'Roadster',\n",
       " 'HIGHLANDER',\n",
       " 'Woakers',\n",
       " 'HRX by Hrithik Roshan',\n",
       " 'AfroJack',\n",
       " 'HRX by Hrithik Roshan',\n",
       " 'Puma',\n",
       " 'Nike',\n",
       " 'Red Tape',\n",
       " 'Eego Italy',\n",
       " 'Red Tape',\n",
       " 'Roadster',\n",
       " 'Crew STREET',\n",
       " 'Nike',\n",
       " 'HIGHLANDER',\n",
       " 'HRX by Hrithik Roshan',\n",
       " 'DEAS',\n",
       " 'Jack & Jones',\n",
       " 'U.S. Polo Assn.',\n",
       " 'Newfeel By Decathlon',\n",
       " 'Nike',\n",
       " 'HIGHLANDER',\n",
       " 'Alishtezia',\n",
       " 'Red Tape',\n",
       " 'U.S. Polo Assn.',\n",
       " 'Shoetopia',\n",
       " 'Jack & Jones']"
      ]
     },
     "execution_count": 10,
     "metadata": {},
     "output_type": "execute_result"
    }
   ],
   "source": [
    "brand_titles"
   ]
  },
  {
   "cell_type": "code",
   "execution_count": 28,
   "id": "9b223cfc",
   "metadata": {},
   "outputs": [
    {
     "data": {
      "text/plain": [
       "45"
      ]
     },
     "execution_count": 28,
     "metadata": {},
     "output_type": "execute_result"
    }
   ],
   "source": [
    "price_tags = driver.find_elements_by_xpath('//span[@class=\"product-discountedPrice\"]')\n",
    "len(price_tags)"
   ]
  },
  {
   "cell_type": "code",
   "execution_count": 29,
   "id": "92a28dc5",
   "metadata": {},
   "outputs": [],
   "source": [
    "price_titles = []\n",
    "for i in price_tags:\n",
    "    price_titles.append(i.text)\n",
    "    len(price_titles)"
   ]
  },
  {
   "cell_type": "code",
   "execution_count": 30,
   "id": "7afaee7d",
   "metadata": {},
   "outputs": [
    {
     "data": {
      "text/plain": [
       "['Rs. 658',\n",
       " 'Rs. 1949',\n",
       " 'Rs. 3595',\n",
       " 'Rs. 2399',\n",
       " 'Rs. 1679',\n",
       " 'Rs. 1154',\n",
       " 'Rs. 2499',\n",
       " 'Rs. 898',\n",
       " 'Rs. 7645',\n",
       " 'Rs. 2159',\n",
       " 'Rs. 1199',\n",
       " 'Rs. 3024',\n",
       " 'Rs. 872',\n",
       " 'Rs. 995',\n",
       " 'Rs. 1469',\n",
       " 'Rs. 799',\n",
       " 'Rs. 759',\n",
       " 'Rs. 4945',\n",
       " 'Rs. 2804',\n",
       " 'Rs. 1679',\n",
       " 'Rs. 1499',\n",
       " 'Rs. 995',\n",
       " 'Rs. 681',\n",
       " 'Rs. 4199',\n",
       " 'Rs. 799',\n",
       " 'Rs. 1639',\n",
       " 'Rs. 1999',\n",
       " 'Rs. 5095',\n",
       " 'Rs. 1679',\n",
       " 'Rs. 999',\n",
       " 'Rs. 1679',\n",
       " 'Rs. 1349',\n",
       " 'Rs. 699',\n",
       " 'Rs. 995',\n",
       " 'Rs. 1679',\n",
       " 'Rs. 599',\n",
       " 'Rs. 1499',\n",
       " 'Rs. 2099',\n",
       " 'Rs. 13170',\n",
       " 'Rs. 995',\n",
       " 'Rs. 799',\n",
       " 'Rs. 1739',\n",
       " 'Rs. 2159',\n",
       " 'Rs. 599',\n",
       " 'Rs. 1499']"
      ]
     },
     "execution_count": 30,
     "metadata": {},
     "output_type": "execute_result"
    }
   ],
   "source": [
    "price_titles"
   ]
  },
  {
   "cell_type": "code",
   "execution_count": 31,
   "id": "a8105d55",
   "metadata": {},
   "outputs": [
    {
     "data": {
      "text/plain": [
       "50"
      ]
     },
     "execution_count": 31,
     "metadata": {},
     "output_type": "execute_result"
    }
   ],
   "source": [
    "description_tags = driver.find_elements_by_xpath('//h4[@class=\"product-product\"]')\n",
    "len(description_tags)"
   ]
  },
  {
   "cell_type": "code",
   "execution_count": 32,
   "id": "be2eea32",
   "metadata": {},
   "outputs": [],
   "source": [
    "description_titles = []\n",
    "for i in description_tags:\n",
    "    description_titles.append(i.text)\n",
    "    len(description_titles)"
   ]
  },
  {
   "cell_type": "code",
   "execution_count": 33,
   "id": "b6f806a5",
   "metadata": {},
   "outputs": [
    {
     "data": {
      "text/plain": [
       "['Men Woven Design Sneakers',\n",
       " 'Men Walking Shoes',\n",
       " 'Men Sneakers',\n",
       " 'Men Downshifter 10 Running',\n",
       " 'Men LEBRON 2.0 Walking Shoes',\n",
       " 'Men Walking Shoes',\n",
       " 'Men Suede Finish Sneakers',\n",
       " 'Men Running Shoes',\n",
       " 'Men Suede Loafers',\n",
       " 'Men Leather Driving Shoes',\n",
       " 'Men Running Shoes',\n",
       " 'Men LEBRON 2.0 Walking Shoes',\n",
       " 'Kids Revolution 4 Running',\n",
       " 'Women Enzo 2 Running Shoes',\n",
       " 'Men Sneakers',\n",
       " 'Men Sneakers',\n",
       " 'Men Walking Shoes',\n",
       " 'Women Colourblocked Sneakers',\n",
       " 'Unsiex Aqua Shoes 100',\n",
       " 'Men Walking Shoes',\n",
       " 'Men Flex Control Training',\n",
       " 'Men Chunky Sneakers',\n",
       " 'Men Walking Shoes',\n",
       " 'Men Sneakers',\n",
       " 'Men Sneakers',\n",
       " 'Men Running Shoes',\n",
       " 'Men Propulsion Running Shoes',\n",
       " 'Men Woven Design Sneakers',\n",
       " 'Women Running Shoes',\n",
       " 'Men Corode IDP Running Shoes',\n",
       " 'Men QUEST 3 Running Shoes',\n",
       " 'Men Walking Shoes',\n",
       " 'Men Trekking Shoes',\n",
       " 'Women Walking Shoes',\n",
       " 'Men Solid Sneakers',\n",
       " 'Men Woven Design Running Shoes',\n",
       " 'Men Quest 3 Running Shoes',\n",
       " 'Men Solid Leather Sneakers',\n",
       " 'Men Alpha Running Shoe',\n",
       " 'Women Mules Flats',\n",
       " 'Men Slip-On Sneakers',\n",
       " 'Men Solid Sneakers',\n",
       " 'Women Walking Shoes',\n",
       " 'Women RIR FK2 PR Running Shoes',\n",
       " 'Men Solid Sneakers',\n",
       " 'Women Colourblocked PU Sneakers',\n",
       " 'Men Walking Shoes',\n",
       " 'Men Textured Loafers',\n",
       " 'Women Sneakers',\n",
       " 'Men Printed Slip-On Sneakers']"
      ]
     },
     "execution_count": 33,
     "metadata": {},
     "output_type": "execute_result"
    }
   ],
   "source": [
    "description_titles"
   ]
  },
  {
   "cell_type": "code",
   "execution_count": 34,
   "id": "753ca862",
   "metadata": {},
   "outputs": [
    {
     "data": {
      "text/plain": [
       "(50, 45, 50)"
      ]
     },
     "execution_count": 34,
     "metadata": {},
     "output_type": "execute_result"
    }
   ],
   "source": [
    "len(description_titles),len(price_titles),len(brand_titles)"
   ]
  },
  {
   "cell_type": "code",
   "execution_count": 35,
   "id": "06c10216",
   "metadata": {},
   "outputs": [
    {
     "ename": "ValueError",
     "evalue": "Length of values (45) does not match length of index (50)",
     "output_type": "error",
     "traceback": [
      "\u001b[1;31m---------------------------------------------------------------------------\u001b[0m",
      "\u001b[1;31mValueError\u001b[0m                                Traceback (most recent call last)",
      "\u001b[1;32mC:\\Users\\RAUSHA~1\\AppData\\Local\\Temp/ipykernel_21800/2185923663.py\u001b[0m in \u001b[0;36m<module>\u001b[1;34m\u001b[0m\n\u001b[0;32m      1\u001b[0m \u001b[0mproduct\u001b[0m \u001b[1;33m=\u001b[0m \u001b[0mpd\u001b[0m\u001b[1;33m.\u001b[0m\u001b[0mDataFrame\u001b[0m\u001b[1;33m(\u001b[0m\u001b[1;33m)\u001b[0m\u001b[1;33m\u001b[0m\u001b[1;33m\u001b[0m\u001b[0m\n\u001b[0;32m      2\u001b[0m \u001b[0mproduct\u001b[0m\u001b[1;33m[\u001b[0m\u001b[1;34m'Brand Title'\u001b[0m\u001b[1;33m]\u001b[0m \u001b[1;33m=\u001b[0m \u001b[0mbrand_titles\u001b[0m\u001b[1;33m\u001b[0m\u001b[1;33m\u001b[0m\u001b[0m\n\u001b[1;32m----> 3\u001b[1;33m \u001b[0mproduct\u001b[0m\u001b[1;33m[\u001b[0m\u001b[1;34m'price'\u001b[0m\u001b[1;33m]\u001b[0m \u001b[1;33m=\u001b[0m \u001b[0mprice_titles\u001b[0m\u001b[1;33m\u001b[0m\u001b[1;33m\u001b[0m\u001b[0m\n\u001b[0m\u001b[0;32m      4\u001b[0m \u001b[0mproduct\u001b[0m\u001b[1;33m[\u001b[0m\u001b[1;34m'Description'\u001b[0m\u001b[1;33m]\u001b[0m \u001b[1;33m=\u001b[0m \u001b[0mdescription_titles\u001b[0m\u001b[1;33m\u001b[0m\u001b[1;33m\u001b[0m\u001b[0m\n\u001b[0;32m      5\u001b[0m \u001b[0mproduct\u001b[0m\u001b[1;33m\u001b[0m\u001b[1;33m\u001b[0m\u001b[0m\n",
      "\u001b[1;32m~\\Downloads\\ana\\lib\\site-packages\\pandas\\core\\frame.py\u001b[0m in \u001b[0;36m__setitem__\u001b[1;34m(self, key, value)\u001b[0m\n\u001b[0;32m   3610\u001b[0m         \u001b[1;32melse\u001b[0m\u001b[1;33m:\u001b[0m\u001b[1;33m\u001b[0m\u001b[1;33m\u001b[0m\u001b[0m\n\u001b[0;32m   3611\u001b[0m             \u001b[1;31m# set column\u001b[0m\u001b[1;33m\u001b[0m\u001b[1;33m\u001b[0m\u001b[0m\n\u001b[1;32m-> 3612\u001b[1;33m             \u001b[0mself\u001b[0m\u001b[1;33m.\u001b[0m\u001b[0m_set_item\u001b[0m\u001b[1;33m(\u001b[0m\u001b[0mkey\u001b[0m\u001b[1;33m,\u001b[0m \u001b[0mvalue\u001b[0m\u001b[1;33m)\u001b[0m\u001b[1;33m\u001b[0m\u001b[1;33m\u001b[0m\u001b[0m\n\u001b[0m\u001b[0;32m   3613\u001b[0m \u001b[1;33m\u001b[0m\u001b[0m\n\u001b[0;32m   3614\u001b[0m     \u001b[1;32mdef\u001b[0m \u001b[0m_setitem_slice\u001b[0m\u001b[1;33m(\u001b[0m\u001b[0mself\u001b[0m\u001b[1;33m,\u001b[0m \u001b[0mkey\u001b[0m\u001b[1;33m:\u001b[0m \u001b[0mslice\u001b[0m\u001b[1;33m,\u001b[0m \u001b[0mvalue\u001b[0m\u001b[1;33m)\u001b[0m\u001b[1;33m:\u001b[0m\u001b[1;33m\u001b[0m\u001b[1;33m\u001b[0m\u001b[0m\n",
      "\u001b[1;32m~\\Downloads\\ana\\lib\\site-packages\\pandas\\core\\frame.py\u001b[0m in \u001b[0;36m_set_item\u001b[1;34m(self, key, value)\u001b[0m\n\u001b[0;32m   3782\u001b[0m         \u001b[0mensure\u001b[0m \u001b[0mhomogeneity\u001b[0m\u001b[1;33m.\u001b[0m\u001b[1;33m\u001b[0m\u001b[1;33m\u001b[0m\u001b[0m\n\u001b[0;32m   3783\u001b[0m         \"\"\"\n\u001b[1;32m-> 3784\u001b[1;33m         \u001b[0mvalue\u001b[0m \u001b[1;33m=\u001b[0m \u001b[0mself\u001b[0m\u001b[1;33m.\u001b[0m\u001b[0m_sanitize_column\u001b[0m\u001b[1;33m(\u001b[0m\u001b[0mvalue\u001b[0m\u001b[1;33m)\u001b[0m\u001b[1;33m\u001b[0m\u001b[1;33m\u001b[0m\u001b[0m\n\u001b[0m\u001b[0;32m   3785\u001b[0m \u001b[1;33m\u001b[0m\u001b[0m\n\u001b[0;32m   3786\u001b[0m         if (\n",
      "\u001b[1;32m~\\Downloads\\ana\\lib\\site-packages\\pandas\\core\\frame.py\u001b[0m in \u001b[0;36m_sanitize_column\u001b[1;34m(self, value)\u001b[0m\n\u001b[0;32m   4507\u001b[0m \u001b[1;33m\u001b[0m\u001b[0m\n\u001b[0;32m   4508\u001b[0m         \u001b[1;32mif\u001b[0m \u001b[0mis_list_like\u001b[0m\u001b[1;33m(\u001b[0m\u001b[0mvalue\u001b[0m\u001b[1;33m)\u001b[0m\u001b[1;33m:\u001b[0m\u001b[1;33m\u001b[0m\u001b[1;33m\u001b[0m\u001b[0m\n\u001b[1;32m-> 4509\u001b[1;33m             \u001b[0mcom\u001b[0m\u001b[1;33m.\u001b[0m\u001b[0mrequire_length_match\u001b[0m\u001b[1;33m(\u001b[0m\u001b[0mvalue\u001b[0m\u001b[1;33m,\u001b[0m \u001b[0mself\u001b[0m\u001b[1;33m.\u001b[0m\u001b[0mindex\u001b[0m\u001b[1;33m)\u001b[0m\u001b[1;33m\u001b[0m\u001b[1;33m\u001b[0m\u001b[0m\n\u001b[0m\u001b[0;32m   4510\u001b[0m         \u001b[1;32mreturn\u001b[0m \u001b[0msanitize_array\u001b[0m\u001b[1;33m(\u001b[0m\u001b[0mvalue\u001b[0m\u001b[1;33m,\u001b[0m \u001b[0mself\u001b[0m\u001b[1;33m.\u001b[0m\u001b[0mindex\u001b[0m\u001b[1;33m,\u001b[0m \u001b[0mcopy\u001b[0m\u001b[1;33m=\u001b[0m\u001b[1;32mTrue\u001b[0m\u001b[1;33m,\u001b[0m \u001b[0mallow_2d\u001b[0m\u001b[1;33m=\u001b[0m\u001b[1;32mTrue\u001b[0m\u001b[1;33m)\u001b[0m\u001b[1;33m\u001b[0m\u001b[1;33m\u001b[0m\u001b[0m\n\u001b[0;32m   4511\u001b[0m \u001b[1;33m\u001b[0m\u001b[0m\n",
      "\u001b[1;32m~\\Downloads\\ana\\lib\\site-packages\\pandas\\core\\common.py\u001b[0m in \u001b[0;36mrequire_length_match\u001b[1;34m(data, index)\u001b[0m\n\u001b[0;32m    529\u001b[0m     \"\"\"\n\u001b[0;32m    530\u001b[0m     \u001b[1;32mif\u001b[0m \u001b[0mlen\u001b[0m\u001b[1;33m(\u001b[0m\u001b[0mdata\u001b[0m\u001b[1;33m)\u001b[0m \u001b[1;33m!=\u001b[0m \u001b[0mlen\u001b[0m\u001b[1;33m(\u001b[0m\u001b[0mindex\u001b[0m\u001b[1;33m)\u001b[0m\u001b[1;33m:\u001b[0m\u001b[1;33m\u001b[0m\u001b[1;33m\u001b[0m\u001b[0m\n\u001b[1;32m--> 531\u001b[1;33m         raise ValueError(\n\u001b[0m\u001b[0;32m    532\u001b[0m             \u001b[1;34m\"Length of values \"\u001b[0m\u001b[1;33m\u001b[0m\u001b[1;33m\u001b[0m\u001b[0m\n\u001b[0;32m    533\u001b[0m             \u001b[1;34mf\"({len(data)}) \"\u001b[0m\u001b[1;33m\u001b[0m\u001b[1;33m\u001b[0m\u001b[0m\n",
      "\u001b[1;31mValueError\u001b[0m: Length of values (45) does not match length of index (50)"
     ]
    }
   ],
   "source": [
    "product = pd.DataFrame()\n",
    "product['Brand Title'] = brand_titles\n",
    "product['price'] = price_titles\n",
    "product['Description'] = description_titles\n",
    "product"
   ]
  },
  {
   "cell_type": "code",
   "execution_count": 36,
   "id": "3fe6df51",
   "metadata": {},
   "outputs": [
    {
     "data": {
      "text/plain": [
       "<selenium.webdriver.remote.webelement.WebElement (session=\"41783d036f57b98e38696acb6d9d3dee\", element=\"9ecf5813-208b-479e-9d18-4f4861c5190c\")>"
      ]
     },
     "execution_count": 36,
     "metadata": {},
     "output_type": "execute_result"
    }
   ],
   "source": [
    "search_nextbtn = driver.find_element_by_class_name(\"pagination-next\")\n",
    "search_nextbtn"
   ]
  },
  {
   "cell_type": "code",
   "execution_count": 37,
   "id": "2bda7c69",
   "metadata": {},
   "outputs": [],
   "source": [
    "search_nextbtn.click()"
   ]
  },
  {
   "cell_type": "code",
   "execution_count": 38,
   "id": "cdadf740",
   "metadata": {},
   "outputs": [
    {
     "data": {
      "text/plain": [
       "50"
      ]
     },
     "execution_count": 38,
     "metadata": {},
     "output_type": "execute_result"
    }
   ],
   "source": [
    "(brand_tags) = driver.find_elements_by_xpath('//h3[@class=\"product-brand\"]')\n",
    "len(brand_tags)"
   ]
  },
  {
   "cell_type": "code",
   "execution_count": 39,
   "id": "c1cabfc2",
   "metadata": {},
   "outputs": [],
   "source": [
    "brand_titles = []\n",
    "for i in brand_tags:\n",
    "    brand_titles.append(i.text)\n",
    "    len(brand_titles)"
   ]
  },
  {
   "cell_type": "code",
   "execution_count": 40,
   "id": "a41d3c6f",
   "metadata": {},
   "outputs": [
    {
     "data": {
      "text/plain": [
       "['Jack & Jones',\n",
       " 'ADIDAS',\n",
       " 'DressBerry',\n",
       " 'Sparx',\n",
       " 'H&M',\n",
       " 'Nike',\n",
       " 'TWIN TOES',\n",
       " 'HIGHLANDER',\n",
       " 'Campus',\n",
       " 'U.S. Polo Assn.',\n",
       " 'TRASE',\n",
       " 'Puma',\n",
       " 'Puma',\n",
       " 'New Balance',\n",
       " 'HRX by Hrithik Roshan',\n",
       " 'AfroJack',\n",
       " 'Puma',\n",
       " 'Mast & Harbour',\n",
       " 'Nike',\n",
       " 'HIGHLANDER',\n",
       " 'HRX by Hrithik Roshan',\n",
       " 'ALDO',\n",
       " 'El Paso',\n",
       " 'Nike',\n",
       " 'Gibelle',\n",
       " 'AfroJack',\n",
       " 'HRX by Hrithik Roshan',\n",
       " 'HIGHLANDER',\n",
       " 'HRX by Hrithik Roshan',\n",
       " 'Sparx',\n",
       " 'DressBerry',\n",
       " 'Jack & Jones',\n",
       " 'Puma',\n",
       " 'Mactree',\n",
       " 'HIGHLANDER',\n",
       " 'Puma',\n",
       " 'Woakers',\n",
       " 'Jack & Jones',\n",
       " 'Nike',\n",
       " 'ZAPATOZ',\n",
       " 'El Paso',\n",
       " 'H&M',\n",
       " 'HIGHLANDER',\n",
       " 'Red Tape',\n",
       " 'ZAPATOZ',\n",
       " 'HRX by Hrithik Roshan',\n",
       " 'Mast & Harbour',\n",
       " 'HRX by Hrithik Roshan',\n",
       " 'ADIDAS',\n",
       " 'Campus']"
      ]
     },
     "execution_count": 40,
     "metadata": {},
     "output_type": "execute_result"
    }
   ],
   "source": [
    "brand_titles"
   ]
  },
  {
   "cell_type": "code",
   "execution_count": 46,
   "id": "9f9ecae6",
   "metadata": {},
   "outputs": [
    {
     "data": {
      "text/plain": [
       "45"
      ]
     },
     "execution_count": 46,
     "metadata": {},
     "output_type": "execute_result"
    }
   ],
   "source": [
    "price_tags = driver.find_elements_by_xpath('//span[@class=\"product-discountedPrice\"]')\n",
    "len(price_tags)"
   ]
  },
  {
   "cell_type": "code",
   "execution_count": 47,
   "id": "2a430a08",
   "metadata": {},
   "outputs": [],
   "source": [
    "price_titles = []\n",
    "for i in price_tags:\n",
    "    price_titles.append(i.text)\n",
    "    len(price_titles)"
   ]
  },
  {
   "cell_type": "code",
   "execution_count": 48,
   "id": "11d6d821",
   "metadata": {},
   "outputs": [
    {
     "data": {
      "text/plain": [
       "['Rs. 1499',\n",
       " 'Rs. 2294',\n",
       " 'Rs. 599',\n",
       " 'Rs. 1111',\n",
       " 'Rs. 3820',\n",
       " 'Rs. 599',\n",
       " 'Rs. 995',\n",
       " 'Rs. 1495',\n",
       " 'Rs. 1819',\n",
       " 'Rs. 899',\n",
       " 'Rs. 2199',\n",
       " 'Rs. 2149',\n",
       " 'Rs. 6499',\n",
       " 'Rs. 2749',\n",
       " 'Rs. 749',\n",
       " 'Rs. 5599',\n",
       " 'Rs. 1574',\n",
       " 'Rs. 4245',\n",
       " 'Rs. 895',\n",
       " 'Rs. 2799',\n",
       " 'Rs. 799',\n",
       " 'Rs. 1199',\n",
       " 'Rs. 499',\n",
       " 'Rs. 749',\n",
       " 'Rs. 1719',\n",
       " 'Rs. 995',\n",
       " 'Rs. 1639',\n",
       " 'Rs. 1033',\n",
       " 'Rs. 899',\n",
       " 'Rs. 1499',\n",
       " 'Rs. 1759',\n",
       " 'Rs. 898',\n",
       " 'Rs. 995',\n",
       " 'Rs. 2364',\n",
       " 'Rs. 725',\n",
       " 'Rs. 4670',\n",
       " 'Rs. 689',\n",
       " 'Rs. 1099',\n",
       " 'Rs. 995',\n",
       " 'Rs. 1619',\n",
       " 'Rs. 799',\n",
       " 'Rs. 2149',\n",
       " 'Rs. 1949',\n",
       " 'Rs. 2399',\n",
       " 'Rs. 4249']"
      ]
     },
     "execution_count": 48,
     "metadata": {},
     "output_type": "execute_result"
    }
   ],
   "source": [
    "price_titles"
   ]
  },
  {
   "cell_type": "code",
   "execution_count": 49,
   "id": "a9a64e2f",
   "metadata": {},
   "outputs": [
    {
     "data": {
      "text/plain": [
       "50"
      ]
     },
     "execution_count": 49,
     "metadata": {},
     "output_type": "execute_result"
    }
   ],
   "source": [
    "description_tags = driver.find_elements_by_xpath('//h4[@class=\"product-product\"]')\n",
    "len(description_tags)"
   ]
  },
  {
   "cell_type": "code",
   "execution_count": 50,
   "id": "614baa05",
   "metadata": {},
   "outputs": [],
   "source": [
    "description_titles = []\n",
    "for i in description_tags:\n",
    "    description_titles.append(i.text)\n",
    "    len(description_titles)"
   ]
  },
  {
   "cell_type": "code",
   "execution_count": 51,
   "id": "14a5cf2c",
   "metadata": {},
   "outputs": [
    {
     "data": {
      "text/plain": [
       "['Men Printed Slip-On Sneakers',\n",
       " 'Men Adi Chic Running Shoes',\n",
       " 'Women T-Strap Flats',\n",
       " 'Men Running Shoes',\n",
       " 'Men Canvas Hi-Top Trainers',\n",
       " 'LEGEND ESSENTIAL Training Shoe',\n",
       " 'Women Solid Sneakers',\n",
       " 'Men Solid Sneakers',\n",
       " 'Men Evok Running Shoes',\n",
       " 'Men Solid CARLIN Sneakers',\n",
       " 'Women Heeled Boots',\n",
       " 'Men Running Shoes',\n",
       " 'Men Sneakers',\n",
       " 'Men Woven Design Running Shoes',\n",
       " 'Men Urban Outdoor Running Shoe',\n",
       " 'Men Colourblocked Sneakers',\n",
       " 'Unisex Backcourt Sneakers',\n",
       " 'Men Colourblocked Sneakers',\n",
       " 'Men City Rep Training Shoes',\n",
       " 'Men Sneakers',\n",
       " 'Men Metalite Running Shoe',\n",
       " 'Men Colourblocked Sneakers',\n",
       " 'Women Colourblocked Sneakers',\n",
       " 'Kids REVOLUTION 4 Shoes',\n",
       " 'Women Open Toe Flats',\n",
       " 'Men Printed Sneakers',\n",
       " 'Men Woven Design Fly Sneakers',\n",
       " 'Men Sneakers',\n",
       " 'Women Running Shoes',\n",
       " 'Men Running Shoes',\n",
       " 'Women Pointy-Toed Flats',\n",
       " 'Men Slip-On Sneakers',\n",
       " 'Women Running Shoes',\n",
       " 'Men Suede Loafers',\n",
       " 'Men Sneakers',\n",
       " 'Men Sneakers',\n",
       " 'Men Sneakers',\n",
       " 'Men Solid Suede Loafers',\n",
       " 'Men Flex Control Training',\n",
       " 'Women Heeled Boots',\n",
       " 'Women Solid Heeled Boots',\n",
       " 'Women Trainers',\n",
       " 'Men Sneakers',\n",
       " 'Women Walking Shoes',\n",
       " 'Women White Walking Shoes',\n",
       " 'Women Alpha Training Shoes',\n",
       " 'Women Sneakers',\n",
       " 'Men Street Run 2.0 Shoe',\n",
       " 'Men Ultrafly M Running Shoes',\n",
       " 'Mesh Running Shoes']"
      ]
     },
     "execution_count": 51,
     "metadata": {},
     "output_type": "execute_result"
    }
   ],
   "source": [
    "description_titles"
   ]
  },
  {
   "cell_type": "code",
   "execution_count": 52,
   "id": "edfde4c0",
   "metadata": {},
   "outputs": [
    {
     "data": {
      "text/plain": [
       "(50, 45, 50)"
      ]
     },
     "execution_count": 52,
     "metadata": {},
     "output_type": "execute_result"
    }
   ],
   "source": [
    "len(description_titles),len(price_titles),len(brand_titles)"
   ]
  },
  {
   "cell_type": "code",
   "execution_count": 53,
   "id": "d4c92c68",
   "metadata": {},
   "outputs": [
    {
     "ename": "ValueError",
     "evalue": "Length of values (45) does not match length of index (50)",
     "output_type": "error",
     "traceback": [
      "\u001b[1;31m---------------------------------------------------------------------------\u001b[0m",
      "\u001b[1;31mValueError\u001b[0m                                Traceback (most recent call last)",
      "\u001b[1;32mC:\\Users\\RAUSHA~1\\AppData\\Local\\Temp/ipykernel_21800/2185923663.py\u001b[0m in \u001b[0;36m<module>\u001b[1;34m\u001b[0m\n\u001b[0;32m      1\u001b[0m \u001b[0mproduct\u001b[0m \u001b[1;33m=\u001b[0m \u001b[0mpd\u001b[0m\u001b[1;33m.\u001b[0m\u001b[0mDataFrame\u001b[0m\u001b[1;33m(\u001b[0m\u001b[1;33m)\u001b[0m\u001b[1;33m\u001b[0m\u001b[1;33m\u001b[0m\u001b[0m\n\u001b[0;32m      2\u001b[0m \u001b[0mproduct\u001b[0m\u001b[1;33m[\u001b[0m\u001b[1;34m'Brand Title'\u001b[0m\u001b[1;33m]\u001b[0m \u001b[1;33m=\u001b[0m \u001b[0mbrand_titles\u001b[0m\u001b[1;33m\u001b[0m\u001b[1;33m\u001b[0m\u001b[0m\n\u001b[1;32m----> 3\u001b[1;33m \u001b[0mproduct\u001b[0m\u001b[1;33m[\u001b[0m\u001b[1;34m'price'\u001b[0m\u001b[1;33m]\u001b[0m \u001b[1;33m=\u001b[0m \u001b[0mprice_titles\u001b[0m\u001b[1;33m\u001b[0m\u001b[1;33m\u001b[0m\u001b[0m\n\u001b[0m\u001b[0;32m      4\u001b[0m \u001b[0mproduct\u001b[0m\u001b[1;33m[\u001b[0m\u001b[1;34m'Description'\u001b[0m\u001b[1;33m]\u001b[0m \u001b[1;33m=\u001b[0m \u001b[0mdescription_titles\u001b[0m\u001b[1;33m\u001b[0m\u001b[1;33m\u001b[0m\u001b[0m\n\u001b[0;32m      5\u001b[0m \u001b[0mproduct\u001b[0m\u001b[1;33m\u001b[0m\u001b[1;33m\u001b[0m\u001b[0m\n",
      "\u001b[1;32m~\\Downloads\\ana\\lib\\site-packages\\pandas\\core\\frame.py\u001b[0m in \u001b[0;36m__setitem__\u001b[1;34m(self, key, value)\u001b[0m\n\u001b[0;32m   3610\u001b[0m         \u001b[1;32melse\u001b[0m\u001b[1;33m:\u001b[0m\u001b[1;33m\u001b[0m\u001b[1;33m\u001b[0m\u001b[0m\n\u001b[0;32m   3611\u001b[0m             \u001b[1;31m# set column\u001b[0m\u001b[1;33m\u001b[0m\u001b[1;33m\u001b[0m\u001b[0m\n\u001b[1;32m-> 3612\u001b[1;33m             \u001b[0mself\u001b[0m\u001b[1;33m.\u001b[0m\u001b[0m_set_item\u001b[0m\u001b[1;33m(\u001b[0m\u001b[0mkey\u001b[0m\u001b[1;33m,\u001b[0m \u001b[0mvalue\u001b[0m\u001b[1;33m)\u001b[0m\u001b[1;33m\u001b[0m\u001b[1;33m\u001b[0m\u001b[0m\n\u001b[0m\u001b[0;32m   3613\u001b[0m \u001b[1;33m\u001b[0m\u001b[0m\n\u001b[0;32m   3614\u001b[0m     \u001b[1;32mdef\u001b[0m \u001b[0m_setitem_slice\u001b[0m\u001b[1;33m(\u001b[0m\u001b[0mself\u001b[0m\u001b[1;33m,\u001b[0m \u001b[0mkey\u001b[0m\u001b[1;33m:\u001b[0m \u001b[0mslice\u001b[0m\u001b[1;33m,\u001b[0m \u001b[0mvalue\u001b[0m\u001b[1;33m)\u001b[0m\u001b[1;33m:\u001b[0m\u001b[1;33m\u001b[0m\u001b[1;33m\u001b[0m\u001b[0m\n",
      "\u001b[1;32m~\\Downloads\\ana\\lib\\site-packages\\pandas\\core\\frame.py\u001b[0m in \u001b[0;36m_set_item\u001b[1;34m(self, key, value)\u001b[0m\n\u001b[0;32m   3782\u001b[0m         \u001b[0mensure\u001b[0m \u001b[0mhomogeneity\u001b[0m\u001b[1;33m.\u001b[0m\u001b[1;33m\u001b[0m\u001b[1;33m\u001b[0m\u001b[0m\n\u001b[0;32m   3783\u001b[0m         \"\"\"\n\u001b[1;32m-> 3784\u001b[1;33m         \u001b[0mvalue\u001b[0m \u001b[1;33m=\u001b[0m \u001b[0mself\u001b[0m\u001b[1;33m.\u001b[0m\u001b[0m_sanitize_column\u001b[0m\u001b[1;33m(\u001b[0m\u001b[0mvalue\u001b[0m\u001b[1;33m)\u001b[0m\u001b[1;33m\u001b[0m\u001b[1;33m\u001b[0m\u001b[0m\n\u001b[0m\u001b[0;32m   3785\u001b[0m \u001b[1;33m\u001b[0m\u001b[0m\n\u001b[0;32m   3786\u001b[0m         if (\n",
      "\u001b[1;32m~\\Downloads\\ana\\lib\\site-packages\\pandas\\core\\frame.py\u001b[0m in \u001b[0;36m_sanitize_column\u001b[1;34m(self, value)\u001b[0m\n\u001b[0;32m   4507\u001b[0m \u001b[1;33m\u001b[0m\u001b[0m\n\u001b[0;32m   4508\u001b[0m         \u001b[1;32mif\u001b[0m \u001b[0mis_list_like\u001b[0m\u001b[1;33m(\u001b[0m\u001b[0mvalue\u001b[0m\u001b[1;33m)\u001b[0m\u001b[1;33m:\u001b[0m\u001b[1;33m\u001b[0m\u001b[1;33m\u001b[0m\u001b[0m\n\u001b[1;32m-> 4509\u001b[1;33m             \u001b[0mcom\u001b[0m\u001b[1;33m.\u001b[0m\u001b[0mrequire_length_match\u001b[0m\u001b[1;33m(\u001b[0m\u001b[0mvalue\u001b[0m\u001b[1;33m,\u001b[0m \u001b[0mself\u001b[0m\u001b[1;33m.\u001b[0m\u001b[0mindex\u001b[0m\u001b[1;33m)\u001b[0m\u001b[1;33m\u001b[0m\u001b[1;33m\u001b[0m\u001b[0m\n\u001b[0m\u001b[0;32m   4510\u001b[0m         \u001b[1;32mreturn\u001b[0m \u001b[0msanitize_array\u001b[0m\u001b[1;33m(\u001b[0m\u001b[0mvalue\u001b[0m\u001b[1;33m,\u001b[0m \u001b[0mself\u001b[0m\u001b[1;33m.\u001b[0m\u001b[0mindex\u001b[0m\u001b[1;33m,\u001b[0m \u001b[0mcopy\u001b[0m\u001b[1;33m=\u001b[0m\u001b[1;32mTrue\u001b[0m\u001b[1;33m,\u001b[0m \u001b[0mallow_2d\u001b[0m\u001b[1;33m=\u001b[0m\u001b[1;32mTrue\u001b[0m\u001b[1;33m)\u001b[0m\u001b[1;33m\u001b[0m\u001b[1;33m\u001b[0m\u001b[0m\n\u001b[0;32m   4511\u001b[0m \u001b[1;33m\u001b[0m\u001b[0m\n",
      "\u001b[1;32m~\\Downloads\\ana\\lib\\site-packages\\pandas\\core\\common.py\u001b[0m in \u001b[0;36mrequire_length_match\u001b[1;34m(data, index)\u001b[0m\n\u001b[0;32m    529\u001b[0m     \"\"\"\n\u001b[0;32m    530\u001b[0m     \u001b[1;32mif\u001b[0m \u001b[0mlen\u001b[0m\u001b[1;33m(\u001b[0m\u001b[0mdata\u001b[0m\u001b[1;33m)\u001b[0m \u001b[1;33m!=\u001b[0m \u001b[0mlen\u001b[0m\u001b[1;33m(\u001b[0m\u001b[0mindex\u001b[0m\u001b[1;33m)\u001b[0m\u001b[1;33m:\u001b[0m\u001b[1;33m\u001b[0m\u001b[1;33m\u001b[0m\u001b[0m\n\u001b[1;32m--> 531\u001b[1;33m         raise ValueError(\n\u001b[0m\u001b[0;32m    532\u001b[0m             \u001b[1;34m\"Length of values \"\u001b[0m\u001b[1;33m\u001b[0m\u001b[1;33m\u001b[0m\u001b[0m\n\u001b[0;32m    533\u001b[0m             \u001b[1;34mf\"({len(data)}) \"\u001b[0m\u001b[1;33m\u001b[0m\u001b[1;33m\u001b[0m\u001b[0m\n",
      "\u001b[1;31mValueError\u001b[0m: Length of values (45) does not match length of index (50)"
     ]
    }
   ],
   "source": [
    "product = pd.DataFrame()\n",
    "product['Brand Title'] = brand_titles\n",
    "product['price'] = price_titles\n",
    "product['Description'] = description_titles\n",
    "product"
   ]
  },
  {
   "cell_type": "code",
   "execution_count": null,
   "id": "bd648afe",
   "metadata": {},
   "outputs": [],
   "source": []
  }
 ],
 "metadata": {
  "kernelspec": {
   "display_name": "Python 3 (ipykernel)",
   "language": "python",
   "name": "python3"
  },
  "language_info": {
   "codemirror_mode": {
    "name": "ipython",
    "version": 3
   },
   "file_extension": ".py",
   "mimetype": "text/x-python",
   "name": "python",
   "nbconvert_exporter": "python",
   "pygments_lexer": "ipython3",
   "version": "3.9.7"
  }
 },
 "nbformat": 4,
 "nbformat_minor": 5
}
